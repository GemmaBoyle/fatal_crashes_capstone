{
 "cells": [
  {
   "cell_type": "code",
   "execution_count": null,
   "id": "a9975c21",
   "metadata": {},
   "outputs": [],
   "source": [
    "import numpy as np\n",
    "import pandas as pd \n",
    "\n",
    "person.to_csv('person_accident.csv')"
   ]
  },
  {
   "cell_type": "code",
   "execution_count": null,
   "id": "ccc36c73",
   "metadata": {},
   "outputs": [],
   "source": [
    "# Read in necassary dataframes\n",
    "\n",
    "person = pd.read_csv('person_df.csv')\n",
    "person = person.drop(columns='Unnamed: 0')\n",
    "\n",
    "vehicle = pd.read_csv('vehicle.csv')\n",
    "vehicle = vehicle.drop(columns='Unnamed: 0')\n",
    "\n",
    "accident = pd.read_csv('accident_df.csv')\n",
    "accident = accident.drop(columns='Unnamed: 0')"
   ]
  },
  {
   "cell_type": "code",
   "execution_count": null,
   "id": "73ec8936",
   "metadata": {},
   "outputs": [],
   "source": [
    "# Add in new column headers\n",
    "\n",
    "person = person.assign(vehicles_in_crash='',day_of_week='',time_of_day='',manner_of_collision='', state='')"
   ]
  },
  {
   "cell_type": "code",
   "execution_count": null,
   "id": "6281c58d",
   "metadata": {},
   "outputs": [],
   "source": [
    "# Augment person with relevant accident information \n",
    "\n",
    "ST_CASE = []\n",
    "for i in person.ST_CASE:\n",
    "    ST_CASE.append(i)\n",
    "    \n",
    "ST_CASE \n",
    "ST_CASE_set = set(ST_CASE)\n",
    "\n",
    "for i in range(len(ST_CASE)):\n",
    "    case_no = ST_CASE[i]\n",
    "    a = accident.loc[accident['ST_CASE'] == case_no]\n",
    "    a = a.reset_index()\n",
    "    person.vehicles_in_crash[i] = a.vehicles_in_crash[0]\n",
    "    person.day_of_week[i] = a.day_of_week[0]\n",
    "    person.time_of_day[i] = a.time_of_day[0]\n",
    "    person.manner_of_collision[i] = a.manner_of_collision[0]\n",
    "    person.state[i] = a.state[0]"
   ]
  },
  {
   "cell_type": "code",
   "execution_count": null,
   "id": "d0d030e0",
   "metadata": {},
   "outputs": [],
   "source": [
    "# Export to CV\n",
    "\n",
    "person.to_csv('person_accident.csv')"
   ]
  }
 ],
 "metadata": {
  "kernelspec": {
   "display_name": "Python 3",
   "language": "python",
   "name": "python3"
  },
  "language_info": {
   "codemirror_mode": {
    "name": "ipython",
    "version": 3
   },
   "file_extension": ".py",
   "mimetype": "text/x-python",
   "name": "python",
   "nbconvert_exporter": "python",
   "pygments_lexer": "ipython3",
   "version": "3.8.8"
  }
 },
 "nbformat": 4,
 "nbformat_minor": 5
}
