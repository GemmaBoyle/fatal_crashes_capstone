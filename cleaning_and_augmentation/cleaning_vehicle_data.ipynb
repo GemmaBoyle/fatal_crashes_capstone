{
 "cells": [
  {
   "cell_type": "code",
   "execution_count": null,
   "id": "e70ee05c",
   "metadata": {},
   "outputs": [],
   "source": [
    "import pandas as pd"
   ]
  },
  {
   "cell_type": "code",
   "execution_count": null,
   "id": "f4d1de8a",
   "metadata": {},
   "outputs": [],
   "source": [
    "# Read in vehicle data\n",
    "\n",
    "vehicle = pd.read_csv('/Users/gemmaboyle/Desktop/FARS2019NationalCSV/VEH_AUX.csv')"
   ]
  },
  {
   "cell_type": "code",
   "execution_count": null,
   "id": "b9bb50d3",
   "metadata": {},
   "outputs": [],
   "source": [
    "# drop irrelevant columns\n",
    "\n",
    "vehicle = vehicle.drop(columns=['YEAR_FORMAT','YEAR','A_MC_L_S','A_SBUS', 'A_SBUS_FORMAT',\n",
    "                                'A_BODY','A_CDL_S','A_DRDRO_FORMAT',\n",
    "                               'A_FIRE_EXP','A_FIRE_EXP_FORMAT','A_IMP1','A_IMP2','A_IMP2_FORMAT',\n",
    "                               'A_CDL_S_FORMAT','A_LIC_C', 'A_LIC_C_FORMAT','A_LIC_S',\n",
    "                               'A_MOD_YR','A_MOD_YR_FORMAT','A_SPVEH_FORMAT','A_VROLL_FORMAT',\n",
    "                               'A_DRDIS_FORMAT',])"
   ]
  },
  {
   "cell_type": "code",
   "execution_count": null,
   "id": "8d93f72b",
   "metadata": {},
   "outputs": [],
   "source": [
    "# rename columns\n",
    "\n",
    "vehicle = vehicle.rename(columns={'A_BODY_FORMAT': 'vehicle_type',  \n",
    "                                         'A_DRDRO':'drowsy_driver','A_IMP1_FORMAT':'inital_impact',\n",
    "                                         'A_LIC_S_FORMAT':'licence_status','A_SPVEH':'speeding',\n",
    "                                         'A_VROLL':'rollover','VEH_NO': 'vehicle_no','A_DRDIS':'distracted_driver',\n",
    "                                 'A_MC_L_S_FORMAT':'MC_licence'})"
   ]
  },
  {
   "cell_type": "code",
   "execution_count": null,
   "id": "c3c79481",
   "metadata": {},
   "outputs": [],
   "source": [
    "# Engineer features: Licensing \n",
    "\n",
    "for i in range(len(vehicle.ST_CASE)):\n",
    "    if vehicle.vehicle_type[i] == 'Motorcycle':\n",
    "        vehicle.licence_status[i] = vehicle.MC_licence[i] "
   ]
  },
  {
   "cell_type": "code",
   "execution_count": null,
   "id": "43dce22a",
   "metadata": {},
   "outputs": [],
   "source": [
    "# Apply binary map to binary columns\n",
    "\n",
    "def binary_map(x):\n",
    "    if x == 2:\n",
    "        return 0\n",
    "    else:\n",
    "        return x \n",
    "\n",
    "vehicle['distracted_driver'] = vehicle.distracted_driver.map(binary_map)\n",
    "vehicle['drowsy_driver'] = vehicle.drowsy_driver.map(binary_map)\n",
    "vehicle['speeding'] = vehicle.speeding.map(binary_map)\n",
    "vehicle['rollover'] = vehicle.rollover.map(binary_map)"
   ]
  },
  {
   "cell_type": "code",
   "execution_count": null,
   "id": "b4a0d582",
   "metadata": {},
   "outputs": [],
   "source": [
    "# Drop irrelevant columns\n",
    "\n",
    "vehicle = vehicle.drop(columns='MC_licence')"
   ]
  },
  {
   "cell_type": "code",
   "execution_count": null,
   "id": "1609c6bb",
   "metadata": {},
   "outputs": [],
   "source": [
    "# Export to CSV\n",
    "\n",
    "vehicle.to_csv('vehicle.csv')"
   ]
  }
 ],
 "metadata": {
  "kernelspec": {
   "display_name": "Python 3",
   "language": "python",
   "name": "python3"
  },
  "language_info": {
   "codemirror_mode": {
    "name": "ipython",
    "version": 3
   },
   "file_extension": ".py",
   "mimetype": "text/x-python",
   "name": "python",
   "nbconvert_exporter": "python",
   "pygments_lexer": "ipython3",
   "version": "3.8.8"
  }
 },
 "nbformat": 4,
 "nbformat_minor": 5
}
