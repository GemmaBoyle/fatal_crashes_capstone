{
 "cells": [
  {
   "cell_type": "code",
   "execution_count": null,
   "id": "fa0a242f",
   "metadata": {},
   "outputs": [],
   "source": [
    "import pandas as pd\n",
    "import numpy as np"
   ]
  },
  {
   "cell_type": "markdown",
   "id": "d0e55581",
   "metadata": {},
   "source": [
    "## Cleaning the Auxillary Accident DF "
   ]
  },
  {
   "cell_type": "code",
   "execution_count": null,
   "id": "161cd79a",
   "metadata": {},
   "outputs": [],
   "source": [
    "# Read in the auxillary accident dataframe\n",
    "\n",
    "accident = pd.read_csv('/Users/gemmaboyle/Desktop/FARS2019NationalCSV/ACC_AUX.csv')\n",
    "accident.head()"
   ]
  },
  {
   "cell_type": "code",
   "execution_count": null,
   "id": "0e13bc0f",
   "metadata": {},
   "outputs": [],
   "source": [
    "# Choose a subsection of columns\n",
    "\n",
    "accident = accident[['ST_CASE','A_CT', 'A_D15_19', 'A_D15_20','A_D16_19',\n",
    "                       'A_D16_20','A_D16_24','A_D21_24', 'A_D65PLS',\n",
    "                       'A_DIST','A_DIST_FORMAT','A_DOW_FORMAT','A_DROWSY_FORMAT','A_DROWSY','A_TOD_FORMAT',\n",
    "                       'A_MANCOL_FORMAT','A_MANCOL','A_POSBAC_FORMAT','A_POSBAC','A_ROLL_FORMAT','A_ROLL',\n",
    "                        'A_SPCRA_FORMAT','A_SPCRA','STATE_FORMAT']]"
   ]
  },
  {
   "cell_type": "code",
   "execution_count": null,
   "id": "b4072dae",
   "metadata": {},
   "outputs": [],
   "source": [
    "# Drop a subsection of columns\n",
    "\n",
    "accident.drop(columns=['A_D15_19', 'A_D15_20','A_D16_19','A_D16_20','A_D16_24','A_D21_24', 'A_D65PLS',\n",
    "                       'A_DIST_FORMAT','A_DROWSY_FORMAT','A_MANCOL','A_POSBAC','A_ROLL_FORMAT','A_SPCRA_FORMAT',\n",
    "                      ], inplace=True)"
   ]
  },
  {
   "cell_type": "code",
   "execution_count": null,
   "id": "6b1719ce",
   "metadata": {},
   "outputs": [],
   "source": [
    "# Rename columns to easier formats \n",
    "\n",
    "accident = accident.rename(columns={'A_CT': 'vehicles_in_crash', 'A_DIST': 'distracted', \n",
    "                                         'A_DOW_FORMAT':'day_of_week','A_DROWSY':'drowsy',\n",
    "                                         'A_TOD_FORMAT':'time_of_day','A_MANCOL_FORMAT':'manner_of_collision',\n",
    "                                         'A_POSBAC_FORMAT':'blood_alcohol','A_ROLL':'rollover',\n",
    "                                         'A_SPCRA':'speeding','A_DIST':'distracted','STATE_FORMAT':'state'})"
   ]
  },
  {
   "cell_type": "code",
   "execution_count": null,
   "id": "876f9887",
   "metadata": {},
   "outputs": [],
   "source": [
    "# Binary map function to change positive values (Yes) to 1 and negative values (No) to 0\n",
    "\n",
    "def binary_map(x):\n",
    "    if x == 2:\n",
    "        return 0\n",
    "    else:\n",
    "        return x \n",
    "\n",
    "accident['distracted'] = accident.distracted.map(binary_map)\n",
    "accident['drowsy'] = accident.drowsy.map(binary_map)\n",
    "accident['speeding'] = accident.speeding.map(binary_map)\n",
    "accident['rollover'] = accident.rollover.map(binary_map)"
   ]
  },
  {
   "cell_type": "code",
   "execution_count": null,
   "id": "f4982571",
   "metadata": {},
   "outputs": [],
   "source": [
    "# make the no of vehicles column more readable\n",
    "\n",
    "def no_vehicles(x):\n",
    "    if x == 3:\n",
    "        return '>2'\n",
    "    else:\n",
    "        return str(x)\n",
    "\n",
    "accident['vehicles_in_crash'] = accident.vehicles_in_crash.map(no_vehicles)"
   ]
  },
  {
   "cell_type": "code",
   "execution_count": null,
   "id": "7081e2ba",
   "metadata": {},
   "outputs": [],
   "source": [
    "# Subset the data based on required columns\n",
    "\n",
    "accident_df = accident[['ST_CASE','vehicles_in_crash','day_of_week','time_of_day',\n",
    "                        'manner_of_collision','state']]\n",
    "\n",
    "accident_df.to_csv('accident_df.csv')\n",
    "\n",
    "accident_df.head()"
   ]
  }
 ],
 "metadata": {
  "kernelspec": {
   "display_name": "Python 3",
   "language": "python",
   "name": "python3"
  },
  "language_info": {
   "codemirror_mode": {
    "name": "ipython",
    "version": 3
   },
   "file_extension": ".py",
   "mimetype": "text/x-python",
   "name": "python",
   "nbconvert_exporter": "python",
   "pygments_lexer": "ipython3",
   "version": "3.8.8"
  }
 },
 "nbformat": 4,
 "nbformat_minor": 5
}
