{
 "cells": [
  {
   "cell_type": "code",
   "execution_count": null,
   "id": "7018d276",
   "metadata": {},
   "outputs": [],
   "source": [
    "import pandas as pd "
   ]
  },
  {
   "cell_type": "code",
   "execution_count": null,
   "id": "445dd759",
   "metadata": {},
   "outputs": [],
   "source": [
    "# Read in relevant data\n",
    "\n",
    "person = pd.read_csv('/Users/gemmaboyle/Desktop/FARS2019NationalCSV/PER_AUX.csv')"
   ]
  },
  {
   "cell_type": "code",
   "execution_count": null,
   "id": "9d722bb5",
   "metadata": {},
   "outputs": [],
   "source": [
    "# Find the minimum age range of each person then average\n",
    "\n",
    "person['age'] = ''\n",
    "\n",
    "for i in range(len(person.A_AGE8_FORMAT)):\n",
    "    if person.A_AGE7_FORMAT[i][0].isnumeric():\n",
    "        a = int(person['A_AGE7_FORMAT'][i].split('-')[-1])\n",
    "    elif person.A_AGE8_FORMAT[i][0] == '<':\n",
    "        a = int(person['A_AGE7_FORMAT'][i].split('<')[-1])\n",
    "    elif person.A_AGE7_FORMAT[i][0] == '>':\n",
    "        a = int(person['A_AGE7_FORMAT'][i].split('>')[-1])\n",
    "    elif person.A_AGE7_FORMAT[i] == 'Unknown':\n",
    "        a = 'Unknown'\n",
    "    \n",
    "    if person.A_AGE8_FORMAT[i][0].isnumeric():\n",
    "        b = int(person['A_AGE8_FORMAT'][i].split('-')[0])\n",
    "    elif person.A_AGE8_FORMAT[i][0] == '<':\n",
    "        b = int(person['A_AGE8_FORMAT'][i].split('<')[-1])\n",
    "    elif person.A_AGE8_FORMAT[i][0] == '>':\n",
    "        b = int(person['A_AGE8_FORMAT'][i].split('>')[-1])\n",
    "    elif person.A_AGE8_FORMAT[i] == 'Unknown':\n",
    "        b = 'Unknown'\n",
    "    \n",
    "    try:\n",
    "        person['age'][i] = 0.5*(a+b)\n",
    "        \n",
    "    except:\n",
    "        person['age'][i] = 'Unknown'"
   ]
  },
  {
   "cell_type": "code",
   "execution_count": null,
   "id": "7da3ebd1",
   "metadata": {},
   "outputs": [],
   "source": [
    "# Drop unnecassary columns\n",
    "\n",
    "person = person.drop(columns = ['A_AGE1', 'A_AGE1_FORMAT', 'A_AGE2', 'A_AGE2_FORMAT',\n",
    "       'A_AGE3', 'A_AGE3_FORMAT', 'A_AGE4', 'A_AGE4_FORMAT', 'A_AGE5',\n",
    "       'A_AGE5_FORMAT', 'A_AGE6', 'A_AGE6_FORMAT', 'A_AGE7', 'A_AGE7_FORMAT',\n",
    "       'A_AGE8', 'A_AGE8_FORMAT', 'A_AGE9', 'A_AGE9_FORMAT','YEAR','YEAR_FORMAT',\n",
    "        'A_ALCTES','A_RCAT','A_RCAT_FORMAT','A_DOA','A_DOA_FORMAT','A_EJECT','A_HELMUSE','A_RESTUSE',\n",
    "        'A_HISP','A_HISP_FORMAT','A_HRACE','A_HRACE_FORMAT','A_LOC','A_LOC_FORMAT', 'A_PERINJ_FORMAT','A_PTYPE'])"
   ]
  },
  {
   "cell_type": "code",
   "execution_count": null,
   "id": "706fa4ac",
   "metadata": {},
   "outputs": [],
   "source": [
    "# Clean alcohol test \n",
    "\n",
    "def alcohol_test(x):\n",
    "    if x == 'Unknown if Tested' or x == 'Tested, with Unknown Results':\n",
    "        return 'Unknown'\n",
    "    elif x == 'No Alcohol':\n",
    "        return 'Negative'\n",
    "    elif x == 'Positive BAC':\n",
    "        return 'Positive'\n",
    "    else: \n",
    "        return x\n",
    "    \n",
    "person['A_ALCTES_FORMAT'] = person.A_ALCTES_FORMAT.map(alcohol_test)"
   ]
  },
  {
   "cell_type": "code",
   "execution_count": null,
   "id": "97a4ae12",
   "metadata": {},
   "outputs": [],
   "source": [
    "# Clean fatality\n",
    "\n",
    "def fatality(x):\n",
    "    if x == 6:\n",
    "        return 0\n",
    "    else:\n",
    "        return x\n",
    "    \n",
    "person['A_PERINJ'] = person.A_PERINJ.map(fatality)"
   ]
  },
  {
   "cell_type": "code",
   "execution_count": null,
   "id": "bb21e6a9",
   "metadata": {},
   "outputs": [],
   "source": [
    "# Rename columns\n",
    "\n",
    "person.columns = ['ST_CASE','blood_alcohol','ejected','helmet_use','fatality','person_type','restrained',\n",
    "                  'vehicle_no','person_no','age']"
   ]
  },
  {
   "cell_type": "code",
   "execution_count": null,
   "id": "1f7ac8a4",
   "metadata": {},
   "outputs": [],
   "source": [
    "# Feature engineer safety measure\n",
    "\n",
    "person['safety_measure'] = ''\n",
    "\n",
    "for i in range(len(person.ST_CASE)):\n",
    "    if person.helmet_use[i] == 'Helmeted' or person.restrained[i] == 'Restrained':\n",
    "        person['safety_measure'][i] = 1\n",
    "    elif person.helmet_use[i] == 'Not Helmeted' or person.restrained[i] == 'Unrestrained':\n",
    "        person['safety_measure'][i] = 0\n",
    "    else:\n",
    "        person['safety_measure'][i] = 'Unknown'"
   ]
  },
  {
   "cell_type": "code",
   "execution_count": null,
   "id": "f09e3d9b",
   "metadata": {},
   "outputs": [],
   "source": [
    "# drop irrelevant columns\n",
    "\n",
    "person = person.drop(columns=['helmet_use','restrained'])"
   ]
  },
  {
   "cell_type": "code",
   "execution_count": null,
   "id": "72e0453d",
   "metadata": {},
   "outputs": [],
   "source": [
    "# Export cleaned data to CSV\n",
    "\n",
    "person.to_csv('person_df.csv')"
   ]
  }
 ],
 "metadata": {
  "kernelspec": {
   "display_name": "Python 3",
   "language": "python",
   "name": "python3"
  },
  "language_info": {
   "codemirror_mode": {
    "name": "ipython",
    "version": 3
   },
   "file_extension": ".py",
   "mimetype": "text/x-python",
   "name": "python",
   "nbconvert_exporter": "python",
   "pygments_lexer": "ipython3",
   "version": "3.8.8"
  }
 },
 "nbformat": 4,
 "nbformat_minor": 5
}
