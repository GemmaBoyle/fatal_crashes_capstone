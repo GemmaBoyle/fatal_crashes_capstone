{
 "cells": [
  {
   "cell_type": "code",
   "execution_count": null,
   "id": "a6abd73e",
   "metadata": {},
   "outputs": [],
   "source": [
    "import pandas as pd\n",
    "import numpy as np"
   ]
  },
  {
   "cell_type": "code",
   "execution_count": null,
   "id": "bbee889f",
   "metadata": {},
   "outputs": [],
   "source": [
    "# Read in the person data frame which has already been augmented with information from the accident dataframe\n",
    "\n",
    "person = pd.read_csv('person_accident.csv')\n",
    "person = person.drop(columns='Unnamed: 0')"
   ]
  },
  {
   "cell_type": "code",
   "execution_count": null,
   "id": "f69fffe0",
   "metadata": {},
   "outputs": [],
   "source": [
    "# Read in the vehicle dataframe for augmentation with the person and accident dataframes\n",
    "\n",
    "vehicle = pd.read_csv('vehicle.csv')\n",
    "vehicle = vehicle.drop(columns='Unnamed: 0')\n",
    "vehicle.head()"
   ]
  },
  {
   "cell_type": "code",
   "execution_count": null,
   "id": "ae126b4c",
   "metadata": {},
   "outputs": [],
   "source": [
    "# Add new empty columns into the person dataframe to fill with information from the vehicle dataframe\n",
    "\n",
    "person = person.assign(vehicle_type='',impact_point='',licence_status='',speeding='', rollover='')"
   ]
  },
  {
   "cell_type": "code",
   "execution_count": null,
   "id": "4ee1fed2",
   "metadata": {},
   "outputs": [],
   "source": [
    "# Add relevant information from the vehicle dataframe into the person dataframe\n",
    "\n",
    "for i in range(len(person.ST_CASE)):\n",
    "    \n",
    "    case_no = person.ST_CASE[i]\n",
    "    vehicle_nos = person.vehicle_no[i]\n",
    "     \n",
    "    v = vehicle.loc[(vehicle['ST_CASE'] == case_no) & (vehicle['vehicle_no'] == vehicle_nos)]\n",
    "    v = v.reset_index()\n",
    "        \n",
    "    try:\n",
    "        person.vehicle_type[i] = v.vehicle_type[0]\n",
    "    except:\n",
    "        person.vehicle_type[i] = np.nan\n",
    "        \n",
    "    try:\n",
    "        person.impact_point[i] = v.inital_impact[0]\n",
    "    except:\n",
    "        person.impact_point[i] = np.nan\n",
    "    try:\n",
    "        person.licence_status[i] = v.licence_status[0]\n",
    "    except:\n",
    "        person.licence_status[i] = np.nan\n",
    "    try:\n",
    "        person.speeding[i] = v.speeding[0]\n",
    "    except:\n",
    "        person.speeding[i] = np.nan\n",
    "    try:\n",
    "        person.rollover[i] = v.rollover[0]\n",
    "    except:\n",
    "        person.rollover[i] = np.nan"
   ]
  },
  {
   "cell_type": "code",
   "execution_count": null,
   "id": "898a7f18",
   "metadata": {},
   "outputs": [],
   "source": [
    "# Read final set to a CSV\n",
    "\n",
    "person.to_csv('fatal_crashes.csv')"
   ]
  }
 ],
 "metadata": {
  "kernelspec": {
   "display_name": "Python 3",
   "language": "python",
   "name": "python3"
  },
  "language_info": {
   "codemirror_mode": {
    "name": "ipython",
    "version": 3
   },
   "file_extension": ".py",
   "mimetype": "text/x-python",
   "name": "python",
   "nbconvert_exporter": "python",
   "pygments_lexer": "ipython3",
   "version": "3.8.8"
  }
 },
 "nbformat": 4,
 "nbformat_minor": 5
}
