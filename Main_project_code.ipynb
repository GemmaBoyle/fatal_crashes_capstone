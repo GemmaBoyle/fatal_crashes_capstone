{
 "cells": [
  {
   "cell_type": "markdown",
   "id": "09f5a627",
   "metadata": {},
   "source": [
    "# Predicting Fatalities in Fatal Car Crashes from the US FARS database (2019)"
   ]
  },
  {
   "cell_type": "code",
   "execution_count": 38,
   "id": "d8fb7cb0",
   "metadata": {},
   "outputs": [],
   "source": [
    "import warnings\n",
    "warnings.simplefilter(action='ignore', category=FutureWarning)"
   ]
  },
  {
   "cell_type": "markdown",
   "id": "658ed169",
   "metadata": {},
   "source": [
    "## Introduction and Initial Statement\n",
    "\n",
    "\n",
    "There were 33,244 fatal motor vehicle crashes in the United States in 2019 in which 36,096 deaths occurred. This resulted in 11.0 deaths per 100,000 people and 1.11 deaths per 100 million miles traveled. This project considers what features of the person / accident and vehicle contributed to these deaths. \n",
    "\n",
    "We have a data frame consisting of variables relating to fatal car crashes. This data frame was constructed by merging several auxiliary data frames from the FARS database (Fatality Analysis Report System), the construction of the data frame used within this notebook can be found within the folder named 'initial cleaning and augmentation'. \n",
    "\n",
    "The aim of this project is to identify which attributes of the person, accident or vehicle could lead to a correct prediction of death. The hope is that the data could then be used to identify those individuals at the highest risk of death, allowing resources from the emergency services etc. to be directed towards these cases, or for educational purposes to be used to inform drivers how to avoid fatal crashes.\n",
    "\n",
    "Notes: \n",
    "\n",
    "1. As the data frame shows only those crashes were at least one fatality was recorded single vehicles with single persons (for example a motorcycle collision with a tree where the bike had no other passengers) have been excluded, as these are a certainty of death. \n",
    "\n",
    "\n",
    "2. Pedestrians have also been excluded below as a consequence of these instances have missing values for most of the features we are interested in (such as vehicle type, manner of collision). "
   ]
  },
  {
   "cell_type": "markdown",
   "id": "47a283ee",
   "metadata": {},
   "source": [
    "## Cleaning \n",
    "\n",
    "Notes:\n",
    "\n",
    "1. Safety Measure: This column shows whether the person involved in the crash used a safety measure, for car passengers this represents whether the person wore a seatbelt (1 for yes and 0 for no), for motorcycle passengers this column indicates whether they wore a helmet (1 for yes and 0 for no)\n",
    "\n",
    "\n",
    "2. Speeding, ejected and Rollover: Binary columns, 1 = Yes, 0 = No\n",
    "\n",
    "\n",
    "3. Age is imputed as the median value for the lowest inferred age range taken from binary columns "
   ]
  },
  {
   "cell_type": "code",
   "execution_count": 39,
   "id": "26aad88f",
   "metadata": {},
   "outputs": [],
   "source": [
    "import numpy as np\n",
    "import pandas as pd"
   ]
  },
  {
   "cell_type": "code",
   "execution_count": 40,
   "id": "9f8396d3",
   "metadata": {},
   "outputs": [],
   "source": [
    "df = pd.read_csv(\n",
    "    '/Users/gemmaboyle/Desktop/GA-DSI/Capstone/Fatal Crashes/Initial cleaning and augmentation/fatal_crashes.csv')"
   ]
  },
  {
   "cell_type": "code",
   "execution_count": 41,
   "id": "db232032",
   "metadata": {},
   "outputs": [
    {
     "data": {
      "text/html": [
       "<div>\n",
       "<style scoped>\n",
       "    .dataframe tbody tr th:only-of-type {\n",
       "        vertical-align: middle;\n",
       "    }\n",
       "\n",
       "    .dataframe tbody tr th {\n",
       "        vertical-align: top;\n",
       "    }\n",
       "\n",
       "    .dataframe thead th {\n",
       "        text-align: right;\n",
       "    }\n",
       "</style>\n",
       "<table border=\"1\" class=\"dataframe\">\n",
       "  <thead>\n",
       "    <tr style=\"text-align: right;\">\n",
       "      <th></th>\n",
       "      <th>Unnamed: 0</th>\n",
       "      <th>ST_CASE</th>\n",
       "      <th>blood_alcohol</th>\n",
       "      <th>ejected</th>\n",
       "      <th>fatality</th>\n",
       "      <th>person_type</th>\n",
       "      <th>vehicle_no</th>\n",
       "      <th>person_no</th>\n",
       "      <th>age</th>\n",
       "      <th>safety_measure</th>\n",
       "      <th>vehicles_in_crash</th>\n",
       "      <th>day_of_week</th>\n",
       "      <th>time_of_day</th>\n",
       "      <th>manner_of_collision</th>\n",
       "      <th>state</th>\n",
       "      <th>vehicle_type</th>\n",
       "      <th>impact_point</th>\n",
       "      <th>licence_status</th>\n",
       "      <th>speeding</th>\n",
       "      <th>rollover</th>\n",
       "    </tr>\n",
       "  </thead>\n",
       "  <tbody>\n",
       "    <tr>\n",
       "      <th>0</th>\n",
       "      <td>0</td>\n",
       "      <td>10001</td>\n",
       "      <td>Not Tested</td>\n",
       "      <td>Not Ejected</td>\n",
       "      <td>0</td>\n",
       "      <td>Driver</td>\n",
       "      <td>1</td>\n",
       "      <td>1</td>\n",
       "      <td>32.0</td>\n",
       "      <td>1</td>\n",
       "      <td>2</td>\n",
       "      <td>Weekday</td>\n",
       "      <td>Daytime</td>\n",
       "      <td>Rear-End</td>\n",
       "      <td>Alabama</td>\n",
       "      <td>Passenger Car</td>\n",
       "      <td>Front</td>\n",
       "      <td>Invalid</td>\n",
       "      <td>1.0</td>\n",
       "      <td>0.0</td>\n",
       "    </tr>\n",
       "    <tr>\n",
       "      <th>1</th>\n",
       "      <td>1</td>\n",
       "      <td>10001</td>\n",
       "      <td>Not Tested</td>\n",
       "      <td>Not Ejected</td>\n",
       "      <td>1</td>\n",
       "      <td>Occupant</td>\n",
       "      <td>1</td>\n",
       "      <td>2</td>\n",
       "      <td>52.0</td>\n",
       "      <td>1</td>\n",
       "      <td>2</td>\n",
       "      <td>Weekday</td>\n",
       "      <td>Daytime</td>\n",
       "      <td>Rear-End</td>\n",
       "      <td>Alabama</td>\n",
       "      <td>Passenger Car</td>\n",
       "      <td>Front</td>\n",
       "      <td>Invalid</td>\n",
       "      <td>1.0</td>\n",
       "      <td>0.0</td>\n",
       "    </tr>\n",
       "  </tbody>\n",
       "</table>\n",
       "</div>"
      ],
      "text/plain": [
       "   Unnamed: 0  ST_CASE blood_alcohol      ejected  fatality person_type  \\\n",
       "0           0    10001    Not Tested  Not Ejected         0      Driver   \n",
       "1           1    10001    Not Tested  Not Ejected         1    Occupant   \n",
       "\n",
       "   vehicle_no  person_no   age safety_measure vehicles_in_crash day_of_week  \\\n",
       "0           1          1  32.0              1                 2     Weekday   \n",
       "1           1          2  52.0              1                 2     Weekday   \n",
       "\n",
       "  time_of_day manner_of_collision    state   vehicle_type impact_point  \\\n",
       "0     Daytime            Rear-End  Alabama  Passenger Car        Front   \n",
       "1     Daytime            Rear-End  Alabama  Passenger Car        Front   \n",
       "\n",
       "  licence_status  speeding  rollover  \n",
       "0        Invalid       1.0       0.0  \n",
       "1        Invalid       1.0       0.0  "
      ]
     },
     "execution_count": 41,
     "metadata": {},
     "output_type": "execute_result"
    }
   ],
   "source": [
    "df.head(2)"
   ]
  },
  {
   "cell_type": "code",
   "execution_count": 42,
   "id": "c11d7148",
   "metadata": {},
   "outputs": [],
   "source": [
    "df = df.drop(columns='Unnamed: 0')"
   ]
  },
  {
   "cell_type": "code",
   "execution_count": 43,
   "id": "060e7a27",
   "metadata": {},
   "outputs": [
    {
     "data": {
      "text/plain": [
       "Index(['ST_CASE', 'blood_alcohol', 'ejected', 'fatality', 'person_type',\n",
       "       'vehicle_no', 'person_no', 'age', 'safety_measure', 'vehicles_in_crash',\n",
       "       'day_of_week', 'time_of_day', 'manner_of_collision', 'state',\n",
       "       'vehicle_type', 'impact_point', 'licence_status', 'speeding',\n",
       "       'rollover'],\n",
       "      dtype='object')"
      ]
     },
     "execution_count": 43,
     "metadata": {},
     "output_type": "execute_result"
    }
   ],
   "source": [
    "df.columns"
   ]
  },
  {
   "cell_type": "markdown",
   "id": "b4547d2e",
   "metadata": {},
   "source": [
    "### Remove irrelevant columns\n",
    "\n",
    "There are several columns within the data frame which were used as a reference to augment the data and are not individually useful for predicting the target, these are: 'ST_CASE','vehicle_no', ‘person_no’, which are references for each instance from the accident, vehicle and person data frames respectively. "
   ]
  },
  {
   "cell_type": "code",
   "execution_count": 44,
   "id": "97706209",
   "metadata": {},
   "outputs": [],
   "source": [
    "df = df.drop(columns=['ST_CASE','vehicle_no', 'person_no'])"
   ]
  },
  {
   "cell_type": "markdown",
   "id": "66600d5e",
   "metadata": {},
   "source": [
    "### Combine different types of light truck into a single type\n",
    "\n",
    "There are a number of different types of light truck specified in the data. We do not need the data to be this granular so combine into a single 'light truck' class to match the other variables. \n"
   ]
  },
  {
   "cell_type": "code",
   "execution_count": 45,
   "id": "ee8b402c",
   "metadata": {},
   "outputs": [],
   "source": [
    "def vans(x):\n",
    "    try:\n",
    "        if 'Light' in x:\n",
    "            return 'Light Truck'\n",
    "        else:\n",
    "            return x \n",
    "    except:\n",
    "        return np.nan\n",
    "    \n",
    "df.vehicle_type = df.vehicle_type.map(vans)"
   ]
  },
  {
   "cell_type": "markdown",
   "id": "9dfabb82",
   "metadata": {},
   "source": [
    "### Dealing with unknown values\n",
    "\n",
    "Replace 'Uknown' values with np.nan and drop the nan values to get a complete dataset with a full set of predictors. These values occur in several columns where data is missing such as vehicle type. "
   ]
  },
  {
   "cell_type": "code",
   "execution_count": 46,
   "id": "83586c1b",
   "metadata": {},
   "outputs": [],
   "source": [
    "df = df.replace(['Unknown','Other','Other/Unknown'],np.nan)\n",
    "df = df.dropna()"
   ]
  },
  {
   "cell_type": "code",
   "execution_count": 47,
   "id": "64d2d88d",
   "metadata": {},
   "outputs": [
    {
     "name": "stdout",
     "output_type": "stream",
     "text": [
      "<class 'pandas.core.frame.DataFrame'>\n",
      "Int64Index: 57882 entries, 0 to 82219\n",
      "Data columns (total 16 columns):\n",
      " #   Column               Non-Null Count  Dtype  \n",
      "---  ------               --------------  -----  \n",
      " 0   blood_alcohol        57882 non-null  object \n",
      " 1   ejected              57882 non-null  object \n",
      " 2   fatality             57882 non-null  int64  \n",
      " 3   person_type          57882 non-null  object \n",
      " 4   age                  57882 non-null  object \n",
      " 5   safety_measure       57882 non-null  object \n",
      " 6   vehicles_in_crash    57882 non-null  object \n",
      " 7   day_of_week          57882 non-null  object \n",
      " 8   time_of_day          57882 non-null  object \n",
      " 9   manner_of_collision  57882 non-null  object \n",
      " 10  state                57882 non-null  object \n",
      " 11  vehicle_type         57882 non-null  object \n",
      " 12  impact_point         57882 non-null  object \n",
      " 13  licence_status       57882 non-null  object \n",
      " 14  speeding             57882 non-null  float64\n",
      " 15  rollover             57882 non-null  float64\n",
      "dtypes: float64(2), int64(1), object(13)\n",
      "memory usage: 7.5+ MB\n"
     ]
    }
   ],
   "source": [
    "df.info()"
   ]
  },
  {
   "cell_type": "markdown",
   "id": "89b1f444",
   "metadata": {},
   "source": [
    "### Change variables to appropriate d-types for classification problem"
   ]
  },
  {
   "cell_type": "code",
   "execution_count": 48,
   "id": "a1e94b6b",
   "metadata": {},
   "outputs": [],
   "source": [
    "df.speeding = df.speeding.astype(object)\n",
    "df.rollover = df.rollover.astype(object)\n",
    "df.age = df.age.astype(float)\n",
    "df.fatality = df.fatality.astype(int)"
   ]
  },
  {
   "cell_type": "code",
   "execution_count": 49,
   "id": "7fc6da70",
   "metadata": {},
   "outputs": [],
   "source": [
    "# df.head()"
   ]
  },
  {
   "cell_type": "markdown",
   "id": "9cee85b9",
   "metadata": {},
   "source": [
    "# Exploratory Data Analysis (EDA)\n",
    "\n",
    "In this data set we are in the unusual position of dealing exclusively with categorical variables except for age (even the continuous age value which was used is imputed as the median value of the smallest inferred age range from the data and so it not truly continuous). Without the use of a heat-map or looking at correlations how do we determine the best features to predict the target? The answer to this is addressed with graphical representations, the Chi-Squared distribution and the K-best features algorithm. "
   ]
  },
  {
   "cell_type": "code",
   "execution_count": 50,
   "id": "c0784b29",
   "metadata": {},
   "outputs": [],
   "source": [
    "import scipy.stats as stats\n",
    "from sklearn.feature_selection import SelectKBest, chi2\n",
    "from sklearn.model_selection import train_test_split\n",
    "from sklearn.metrics import mean_squared_error\n",
    "from sklearn.preprocessing import StandardScaler\n",
    "import matplotlib.pyplot as plt\n",
    "import seaborn as sns\n",
    "from sklearn.preprocessing import OrdinalEncoder"
   ]
  },
  {
   "cell_type": "code",
   "execution_count": 51,
   "id": "84ecd387",
   "metadata": {},
   "outputs": [
    {
     "data": {
      "image/png": "[encoded data removed]",
      "text/plain": [
       "<Figure size 720x360 with 1 Axes>"
      ]
     },
     "metadata": {
      "needs_background": "light"
     },
     "output_type": "display_data"
    }
   ],
   "source": [
    "plt.figure(figsize=(10,5))\n",
    "sns.countplot(x='vehicle_type', data=df, hue='fatality')\n",
    "plt.xticks(rotation=45)\n",
    "plt.xlabel('Vehicle Type')\n",
    "plt.ylabel('Count')\n",
    "plt.title('Count of fatalities and non-fatalities by vehicle type');\n",
    "plt.savefig('Count_vehicle_type.png', bbox_inches='tight')"
   ]
  },
  {
   "cell_type": "markdown",
   "id": "c463d9c2",
   "metadata": {},
   "source": [
    "A fatality is coded as the positive label 1. We can see from the plot above that every vehicle has a higher proportion of non-fatal incidents than fatal ones, except for motorcycles, making this the most dangerous vehicle type to be driving (or being a passenger on) when in a fatal crash. The safest mode of transport appears to be riding on a bus, that looks to have a negligible number of deaths. "
   ]
  },
  {
   "cell_type": "code",
   "execution_count": 52,
   "id": "6d7c6654",
   "metadata": {},
   "outputs": [
    {
     "data": {
      "image/png": "[encoded data removed]",
      "text/plain": [
       "<Figure size 720x360 with 1 Axes>"
      ]
     },
     "metadata": {
      "needs_background": "light"
     },
     "output_type": "display_data"
    }
   ],
   "source": [
    "plt.figure(figsize=(10,5))\n",
    "plt.ylim(0,80)\n",
    "sns.boxplot(x='safety_measure', y='age',data=df)\n",
    "plt.title('Plot of age against use of a safety measure');\n",
    "plt.savefig('Boxplot_age_safety_measure.png', bbox_inches='tight')"
   ]
  },
  {
   "cell_type": "markdown",
   "id": "8461a584",
   "metadata": {},
   "source": [
    "The median age of those who use a safety feature is higher than those who do not, suggesting that younger people are more likely to engage in the risky behaviour of not wearing a seatbelt or using a helmet, although the spread across both classes is equal. Sadly we can see that there are very young people (around 12 to 13 years old) who are in crashes without being restrained. "
   ]
  },
  {
   "cell_type": "code",
   "execution_count": 53,
   "id": "64132880",
   "metadata": {},
   "outputs": [
    {
     "data": {
      "image/png": "[encoded data removed]",
      "text/plain": [
       "<Figure size 432x288 with 2 Axes>"
      ]
     },
     "metadata": {
      "needs_background": "light"
     },
     "output_type": "display_data"
    }
   ],
   "source": [
    "fig, ax =plt.subplots(1,2)\n",
    "\n",
    "df1 = df[df['fatality'] == 1]\n",
    "\n",
    "sns.distplot(df.age, color='red', bins=10, ax=ax[0])\n",
    "ax[0].set_ylim(0,0.05)\n",
    "ax[0].title.set_text('Age Distribution')\n",
    "\n",
    "\n",
    "sns.distplot(df1.age, color='red', bins=10, ax=ax[1])\n",
    "ax[1].title.set_text('Age Distribution for Fatalities')\n",
    "\n",
    "plt.savefig('Age_distribution.png',bbox_inches='tight')"
   ]
  },
  {
   "cell_type": "markdown",
   "id": "f78bf348",
   "metadata": {},
   "source": [
    "The overall age distribution for those involved in fatal crashes show a peak around 20 years and 65 years. When we look at this distribution for fatalities only we see that a lower proportion of young people die in these crashes and a larger proportion of older people die in these crashes. Both groups are equally involved in fatal crashes but older people are more likely to die. "
   ]
  },
  {
   "cell_type": "code",
   "execution_count": 54,
   "id": "18f879fd",
   "metadata": {},
   "outputs": [
    {
     "data": {
      "image/png": "[encoded data removed]",
      "text/plain": [
       "<Figure size 432x288 with 1 Axes>"
      ]
     },
     "metadata": {},
     "output_type": "display_data"
    }
   ],
   "source": [
    "df.groupby('blood_alcohol').size().plot(kind='pie', autopct='%.2f')\n",
    "plt.ylabel(\"\")\n",
    "plt.title('Proportion of people tested for blood alcohol');\n",
    "plt.savefig('blood_alcohol_pie.png', bbox_inches='tight')"
   ]
  },
  {
   "cell_type": "markdown",
   "id": "fea7de66",
   "metadata": {},
   "source": [
    "Two thirds of individuals in a crash do not have their blood tested for alcohol. Of the remaining third that are tested around 32% have a positive result, meaning 68% test negative. The question becomes, when do officers or other response teams decide to test for alcohol and when do they not? Perhaps these tests are only ordered when the person in question appears to be intoxicated, therefore even when they do not have alcohol present they may be under the influence of something else (like prescription drugs) which is impairing their ability to drive, but this information is not included in our dataset. "
   ]
  },
  {
   "cell_type": "markdown",
   "id": "2e95ea48",
   "metadata": {},
   "source": [
    "### Looking for relevant features\n",
    "\n",
    "Perform a chi-squared hypothesis test on each feature with the target to check for significant associations and remove those that show independence from the target. "
   ]
  },
  {
   "cell_type": "code",
   "execution_count": 55,
   "id": "ce774739",
   "metadata": {},
   "outputs": [
    {
     "name": "stdout",
     "output_type": "stream",
     "text": [
      "Fatality and day_of_week are independent\n",
      "Fatality and time_of_day are independent\n"
     ]
    }
   ],
   "source": [
    "for i in df.columns:\n",
    "    ct = pd.crosstab(df[i], df.fatality)\n",
    "    p = stats.chi2_contingency(ct)[1]\n",
    "    if p > 0.05:\n",
    "        print('Fatality and {} are independent'.format(i))"
   ]
  },
  {
   "cell_type": "markdown",
   "id": "a2bf4f50",
   "metadata": {},
   "source": [
    "The chi-squared tests show that at a 5% level of significance fatality and day of the week / time of the day are independent, meaning these features have no discernable relationship to the target variable (in terms of association).\n",
    "\n",
    "As such they will be removed from the dataframe for the rest of the project. "
   ]
  },
  {
   "cell_type": "code",
   "execution_count": 56,
   "id": "7691147b",
   "metadata": {},
   "outputs": [],
   "source": [
    "df = df.drop(columns=['day_of_week','time_of_day'])"
   ]
  },
  {
   "cell_type": "code",
   "execution_count": 57,
   "id": "57ec2a0a",
   "metadata": {},
   "outputs": [
    {
     "data": {
      "text/plain": [
       "Index(['blood_alcohol', 'ejected', 'fatality', 'person_type', 'age',\n",
       "       'safety_measure', 'vehicles_in_crash', 'manner_of_collision', 'state',\n",
       "       'vehicle_type', 'impact_point', 'licence_status', 'speeding',\n",
       "       'rollover'],\n",
       "      dtype='object')"
      ]
     },
     "execution_count": 57,
     "metadata": {},
     "output_type": "execute_result"
    }
   ],
   "source": [
    "df.columns"
   ]
  },
  {
   "cell_type": "code",
   "execution_count": 58,
   "id": "247d0bf1",
   "metadata": {},
   "outputs": [],
   "source": [
    "x = df[['blood_alcohol', 'ejected','person_type', 'age',\n",
    "       'safety_measure', 'vehicles_in_crash', 'manner_of_collision', 'state',\n",
    "       'vehicle_type', 'impact_point', 'licence_status', 'speeding',\n",
    "       'rollover']]\n",
    "\n",
    "y = df['fatality']"
   ]
  },
  {
   "cell_type": "code",
   "execution_count": 59,
   "id": "a6f52e88",
   "metadata": {},
   "outputs": [
    {
     "data": {
      "text/plain": [
       "(57882, 85)"
      ]
     },
     "execution_count": 59,
     "metadata": {},
     "output_type": "execute_result"
    }
   ],
   "source": [
    "x_dum = pd.get_dummies(x)\n",
    "x_dum.shape"
   ]
  },
  {
   "cell_type": "code",
   "execution_count": 60,
   "id": "bcf8824b",
   "metadata": {},
   "outputs": [],
   "source": [
    "x_train, x_test, y_train, y_test = train_test_split(\n",
    "    x_dum, y, test_size=0.2, random_state=1, stratify=y)"
   ]
  },
  {
   "cell_type": "code",
   "execution_count": 61,
   "id": "2c6590dd",
   "metadata": {},
   "outputs": [],
   "source": [
    "# Fit the data with an ordinal encoder to perpare for a k-best algorithm\n",
    "\n",
    "oe = OrdinalEncoder()\n",
    "oe.fit(x_train)\n",
    "x_train_enc = oe.transform(x_train)\n",
    "x_test_enc = oe.transform(x_test)"
   ]
  },
  {
   "cell_type": "code",
   "execution_count": 62,
   "id": "577ca4ba",
   "metadata": {},
   "outputs": [],
   "source": [
    "fs = SelectKBest(score_func=chi2, k='all')\n",
    "fs.fit(x_train, y_train)\n",
    "x_train_fs = fs.transform(x_train)\n",
    "x_test_fs = fs.transform(x_test)"
   ]
  },
  {
   "cell_type": "code",
   "execution_count": 63,
   "id": "25032854",
   "metadata": {},
   "outputs": [
    {
     "data": {
      "image/png": "[encoded data removed]",
      "text/plain": [
       "<Figure size 432x288 with 1 Axes>"
      ]
     },
     "metadata": {
      "needs_background": "light"
     },
     "output_type": "display_data"
    }
   ],
   "source": [
    "features = [i for i in x_dum.columns]\n",
    "feature_importance = []\n",
    "\n",
    "for i in range(len(fs.scores_)):\n",
    "    feature_importance.append(fs.scores_[i])\n",
    "    \n",
    "plt.bar([i for i in range(len(fs.scores_))], fs.scores_, color='purple')\n",
    "plt.xlabel('Feature')\n",
    "plt.ylabel('Feature Importance');\n",
    "\n",
    "plt.savefig('k_best_feature_importance.png',bbox_inches='tight')"
   ]
  },
  {
   "cell_type": "code",
   "execution_count": 64,
   "id": "69cf6e24",
   "metadata": {},
   "outputs": [
    {
     "data": {
      "text/html": [
       "<div>\n",
       "<style scoped>\n",
       "    .dataframe tbody tr th:only-of-type {\n",
       "        vertical-align: middle;\n",
       "    }\n",
       "\n",
       "    .dataframe tbody tr th {\n",
       "        vertical-align: top;\n",
       "    }\n",
       "\n",
       "    .dataframe thead th {\n",
       "        text-align: right;\n",
       "    }\n",
       "</style>\n",
       "<table border=\"1\" class=\"dataframe\">\n",
       "  <thead>\n",
       "    <tr style=\"text-align: right;\">\n",
       "      <th></th>\n",
       "      <th>Feature</th>\n",
       "      <th>Feature_importance</th>\n",
       "    </tr>\n",
       "  </thead>\n",
       "  <tbody>\n",
       "    <tr>\n",
       "      <th>0</th>\n",
       "      <td>age</td>\n",
       "      <td>10911.990777</td>\n",
       "    </tr>\n",
       "    <tr>\n",
       "      <th>2</th>\n",
       "      <td>blood_alcohol_Not Tested</td>\n",
       "      <td>4845.382401</td>\n",
       "    </tr>\n",
       "    <tr>\n",
       "      <th>1</th>\n",
       "      <td>blood_alcohol_Negative</td>\n",
       "      <td>4454.760775</td>\n",
       "    </tr>\n",
       "    <tr>\n",
       "      <th>3</th>\n",
       "      <td>blood_alcohol_Positive</td>\n",
       "      <td>3912.578380</td>\n",
       "    </tr>\n",
       "    <tr>\n",
       "      <th>72</th>\n",
       "      <td>vehicle_type_Motorcycle</td>\n",
       "      <td>3826.662484</td>\n",
       "    </tr>\n",
       "    <tr>\n",
       "      <th>8</th>\n",
       "      <td>safety_measure_0</td>\n",
       "      <td>2980.676591</td>\n",
       "    </tr>\n",
       "    <tr>\n",
       "      <th>4</th>\n",
       "      <td>ejected_Ejected</td>\n",
       "      <td>2882.117833</td>\n",
       "    </tr>\n",
       "    <tr>\n",
       "      <th>7</th>\n",
       "      <td>person_type_Occupant</td>\n",
       "      <td>1461.455471</td>\n",
       "    </tr>\n",
       "    <tr>\n",
       "      <th>9</th>\n",
       "      <td>safety_measure_1</td>\n",
       "      <td>1334.208505</td>\n",
       "    </tr>\n",
       "    <tr>\n",
       "      <th>82</th>\n",
       "      <td>speeding_1.0</td>\n",
       "      <td>1266.519995</td>\n",
       "    </tr>\n",
       "    <tr>\n",
       "      <th>84</th>\n",
       "      <td>rollover_1.0</td>\n",
       "      <td>994.678636</td>\n",
       "    </tr>\n",
       "    <tr>\n",
       "      <th>12</th>\n",
       "      <td>vehicles_in_crash_&gt;2</td>\n",
       "      <td>919.124065</td>\n",
       "    </tr>\n",
       "    <tr>\n",
       "      <th>70</th>\n",
       "      <td>vehicle_type_Large Truck</td>\n",
       "      <td>899.236856</td>\n",
       "    </tr>\n",
       "    <tr>\n",
       "      <th>6</th>\n",
       "      <td>person_type_Driver</td>\n",
       "      <td>731.580228</td>\n",
       "    </tr>\n",
       "    <tr>\n",
       "      <th>10</th>\n",
       "      <td>vehicles_in_crash_1</td>\n",
       "      <td>688.141157</td>\n",
       "    </tr>\n",
       "    <tr>\n",
       "      <th>76</th>\n",
       "      <td>impact_point_Non-Collision</td>\n",
       "      <td>667.846351</td>\n",
       "    </tr>\n",
       "    <tr>\n",
       "      <th>77</th>\n",
       "      <td>impact_point_Rear</td>\n",
       "      <td>411.847257</td>\n",
       "    </tr>\n",
       "    <tr>\n",
       "      <th>71</th>\n",
       "      <td>vehicle_type_Light Truck</td>\n",
       "      <td>384.679682</td>\n",
       "    </tr>\n",
       "    <tr>\n",
       "      <th>15</th>\n",
       "      <td>manner_of_collision_Not Collision with Motor V...</td>\n",
       "      <td>346.593518</td>\n",
       "    </tr>\n",
       "    <tr>\n",
       "      <th>79</th>\n",
       "      <td>licence_status_Invalid</td>\n",
       "      <td>324.534579</td>\n",
       "    </tr>\n",
       "  </tbody>\n",
       "</table>\n",
       "</div>"
      ],
      "text/plain": [
       "                                              Feature  Feature_importance\n",
       "0                                                 age        10911.990777\n",
       "2                            blood_alcohol_Not Tested         4845.382401\n",
       "1                              blood_alcohol_Negative         4454.760775\n",
       "3                              blood_alcohol_Positive         3912.578380\n",
       "72                            vehicle_type_Motorcycle         3826.662484\n",
       "8                                    safety_measure_0         2980.676591\n",
       "4                                     ejected_Ejected         2882.117833\n",
       "7                                person_type_Occupant         1461.455471\n",
       "9                                    safety_measure_1         1334.208505\n",
       "82                                       speeding_1.0         1266.519995\n",
       "84                                       rollover_1.0          994.678636\n",
       "12                               vehicles_in_crash_>2          919.124065\n",
       "70                           vehicle_type_Large Truck          899.236856\n",
       "6                                  person_type_Driver          731.580228\n",
       "10                                vehicles_in_crash_1          688.141157\n",
       "76                         impact_point_Non-Collision          667.846351\n",
       "77                                  impact_point_Rear          411.847257\n",
       "71                           vehicle_type_Light Truck          384.679682\n",
       "15  manner_of_collision_Not Collision with Motor V...          346.593518\n",
       "79                             licence_status_Invalid          324.534579"
      ]
     },
     "execution_count": 64,
     "metadata": {},
     "output_type": "execute_result"
    }
   ],
   "source": [
    "# Make a dataframe of the most important features for association with the target\n",
    "\n",
    "features_df = pd.DataFrame(\n",
    "    {'Feature': features,\n",
    "     'Feature_importance': feature_importance})\n",
    "\n",
    "features_df_reduced = features_df[features_df.Feature_importance > 300]\n",
    "\n",
    "reduced_features = features_df_reduced['Feature'].tolist()\n",
    "\n",
    "features_df_reduced.sort_values(by='Feature_importance', ascending=False)\n"
   ]
  },
  {
   "cell_type": "markdown",
   "id": "4170062f",
   "metadata": {},
   "source": [
    "As we can see from the graph there are many of the dummified features which do not apparently predict well for the target as seen by thier low value of feature importance. I have made an arbitrary decision on where put a lower limit for a feature to be included at 300 to give the set of features above. This leaves us with 20 features from an original 85, which are shown in the table above. \n",
    "\n",
    "I would like to see if this set of reduced features works better in some of the later models than the full dummied dataset and so have saved them as a list of reduced features. "
   ]
  },
  {
   "cell_type": "markdown",
   "id": "8161fe7c",
   "metadata": {},
   "source": [
    "## Initial Modelling\n",
    "\n",
    "To begin I will perform some modelling with the full dataset with default parameters to get an inital accuracy score and to identify good models for further analysis and evaluation. Then I will perform the modelling with the subset of features identified by the K-best algoithm from the EDA section above to compare the accuracy scores. "
   ]
  },
  {
   "cell_type": "code",
   "execution_count": 65,
   "id": "fa33d796",
   "metadata": {},
   "outputs": [],
   "source": [
    "from sklearn.linear_model import LogisticRegression\n",
    "from sklearn.preprocessing import StandardScaler\n",
    "from sklearn.linear_model import LogisticRegressionCV\n",
    "from sklearn.model_selection import cross_val_score\n",
    "from sklearn.metrics import log_loss\n",
    "from sklearn.neighbors import KNeighborsClassifier\n",
    "from sklearn.metrics import confusion_matrix\n",
    "from sklearn.metrics import plot_confusion_matrix, plot_roc_curve\n",
    "from sklearn.metrics import accuracy_score\n",
    "from sklearn.metrics import precision_score\n",
    "from sklearn.metrics import f1_score\n",
    "from sklearn.metrics import classification_report\n",
    "from sklearn.metrics import roc_auc_score, average_precision_score, plot_precision_recall_curve\n",
    "from sklearn.model_selection import train_test_split\n",
    "from sklearn.metrics import mean_squared_error\n",
    "from sklearn.tree import DecisionTreeClassifier\n",
    "from sklearn.ensemble import AdaBoostClassifier, GradientBoostingClassifier\n",
    "from sklearn.ensemble import RandomForestClassifier\n",
    "from sklearn import naive_bayes\n",
    "from sklearn.naive_bayes import CategoricalNB\n",
    "from sklearn.naive_bayes import MultinomialNB\n",
    "from sklearn.ensemble import ExtraTreesClassifier\n",
    "from sklearn.preprocessing import MinMaxScaler"
   ]
  },
  {
   "cell_type": "code",
   "execution_count": 66,
   "id": "d98aac47",
   "metadata": {},
   "outputs": [],
   "source": [
    "y = df['fatality']\n",
    "\n",
    "x_full = df[['blood_alcohol', 'ejected', 'person_type', 'age','safety_measure', 'vehicles_in_crash',\n",
    "       'manner_of_collision', 'state', 'vehicle_type', 'impact_point','licence_status', 'speeding', 'rollover']]"
   ]
  },
  {
   "cell_type": "code",
   "execution_count": 67,
   "id": "7cabe49a",
   "metadata": {},
   "outputs": [
    {
     "name": "stdout",
     "output_type": "stream",
     "text": [
      "The baseline for the classification model is 0.6275\n"
     ]
    }
   ],
   "source": [
    "# Calculating the baseline for each model (proportion of the majority class)\n",
    "\n",
    "b = y.value_counts(normalize=True).max()\n",
    "\n",
    "print('The baseline for the classification model is {}'.format(round(b,4)))"
   ]
  },
  {
   "cell_type": "code",
   "execution_count": 68,
   "id": "5ca39136",
   "metadata": {},
   "outputs": [],
   "source": [
    "# Dummify the categorical variables\n",
    "\n",
    "x_dum = pd.get_dummies(x_full)"
   ]
  },
  {
   "cell_type": "code",
   "execution_count": 69,
   "id": "dbb614ca",
   "metadata": {},
   "outputs": [],
   "source": [
    "# Split the training and test data, stratify by the target variable\n",
    "\n",
    "x_train, x_test, y_train, y_test = train_test_split(\n",
    "    x_dum, y, test_size=0.2, random_state=1, stratify=y)"
   ]
  },
  {
   "cell_type": "code",
   "execution_count": 70,
   "id": "ad6811a1",
   "metadata": {},
   "outputs": [],
   "source": [
    "# Rescale the data using the standard scalar\n",
    "\n",
    "scaler = StandardScaler()\n",
    "\n",
    "x_train_std = scaler.fit_transform(x_train)\n",
    "x_test_std = scaler.transform(x_test)\n",
    "\n",
    "x_train_std = pd.DataFrame(x_train, columns=x_dum.columns)\n",
    "x_test_std = pd.DataFrame(x_test, columns=x_dum.columns)"
   ]
  },
  {
   "cell_type": "code",
   "execution_count": 71,
   "id": "cac97e7c",
   "metadata": {},
   "outputs": [],
   "source": [
    "# A range of classification models with default parameters\n",
    "\n",
    "models = [LogisticRegression(max_iter=1000), DecisionTreeClassifier(), RandomForestClassifier(),\n",
    "          ExtraTreesClassifier(), AdaBoostClassifier(), GradientBoostingClassifier(), KNeighborsClassifier()]\n",
    "\n",
    "model_names = ['Logistic Regression','Decision Tree Classifier','Random Forest Classifier','Extra Trees Classifier',\n",
    "              'Ada Boost Classifier', 'Gradient Boosting Classifier','K Nearest Neighbours', 'Multinomial Naive Bayes',\n",
    "               'Categorical Naive Bayes']\n"
   ]
  },
  {
   "cell_type": "code",
   "execution_count": 72,
   "id": "654603fc",
   "metadata": {},
   "outputs": [],
   "source": [
    "# Basic model scoring function \n",
    "\n",
    "def model_accuracy(model, x_train, y_train, x_test, y_test, cv=5):\n",
    "    \n",
    "    # Fit the model \n",
    "    model.fit(x_train, y_train)\n",
    "    \n",
    "    # Find cross validated accuracy scores\n",
    "    cv_scores = cross_val_score(model, x_train, y_train, cv=cv)\n",
    "    cv_score = np.mean(cross_val_score(model, x_train, y_train, cv=cv))\n",
    "    training_score = model.score(x_train, y_train)\n",
    "    test_score = model.score(x_test, y_test)\n",
    "    \n",
    "    return cv_score, training_score, test_score"
   ]
  },
  {
   "cell_type": "code",
   "execution_count": 73,
   "id": "312f4ff1",
   "metadata": {},
   "outputs": [],
   "source": [
    "# Upload the scores from the various classification models with a full feature set to lists\n",
    "\n",
    "mean_cv = []\n",
    "training = []\n",
    "test = []\n",
    "for i in models:\n",
    "    scores = model_accuracy(i, x_train_std, y_train, x_test_std, y_test, cv=5)\n",
    "    mean_cv.append(scores[0])\n",
    "    training.append(scores[1])\n",
    "    test.append(scores[2])"
   ]
  },
  {
   "cell_type": "code",
   "execution_count": 74,
   "id": "7a418f8d",
   "metadata": {},
   "outputs": [],
   "source": [
    "# Since Naive Bayes models cannot be run on negative data it is necassary to use a different scaler for these models.\n",
    "# Here I have used the min/max scaler that bounds the data between 0 and 1. \n",
    "# These models have then been run separately and the scores input to the DataFrame with the other models. \n",
    "\n",
    "scaler_2 = MinMaxScaler()\n",
    "\n",
    "x_train_std_2 = scaler_2.fit_transform(x_train)\n",
    "x_test_std_2 = scaler_2.transform(x_test)\n",
    "\n",
    "x_train_std_2 = pd.DataFrame(x_train, columns=x_dum.columns)\n",
    "x_test_std_2 = pd.DataFrame(x_test, columns=x_dum.columns)"
   ]
  },
  {
   "cell_type": "code",
   "execution_count": 75,
   "id": "a4dc0c54",
   "metadata": {},
   "outputs": [],
   "source": [
    "# Instantiate Naive Bayes models\n",
    "\n",
    "models_2 = [MultinomialNB(),CategoricalNB()]"
   ]
  },
  {
   "cell_type": "code",
   "execution_count": 76,
   "id": "fad1f486",
   "metadata": {},
   "outputs": [],
   "source": [
    "# Add the scores from the Bayes models to the data frame\n",
    "\n",
    "for i in models_2:\n",
    "    scores = model_accuracy(i, x_train_std_2, y_train, x_test_std_2, y_test, cv=5)\n",
    "    mean_cv.append(scores[0])\n",
    "    training.append(scores[1])\n",
    "    test.append(scores[2])"
   ]
  },
  {
   "cell_type": "code",
   "execution_count": 77,
   "id": "87a326a8",
   "metadata": {},
   "outputs": [
    {
     "data": {
      "text/html": [
       "<div>\n",
       "<style scoped>\n",
       "    .dataframe tbody tr th:only-of-type {\n",
       "        vertical-align: middle;\n",
       "    }\n",
       "\n",
       "    .dataframe tbody tr th {\n",
       "        vertical-align: top;\n",
       "    }\n",
       "\n",
       "    .dataframe thead th {\n",
       "        text-align: right;\n",
       "    }\n",
       "</style>\n",
       "<table border=\"1\" class=\"dataframe\">\n",
       "  <thead>\n",
       "    <tr style=\"text-align: right;\">\n",
       "      <th></th>\n",
       "      <th>Model</th>\n",
       "      <th>Mean CV</th>\n",
       "      <th>Training</th>\n",
       "      <th>Test</th>\n",
       "      <th>features</th>\n",
       "    </tr>\n",
       "  </thead>\n",
       "  <tbody>\n",
       "    <tr>\n",
       "      <th>0</th>\n",
       "      <td>Logistic Regression</td>\n",
       "      <td>0.821402</td>\n",
       "      <td>0.822114</td>\n",
       "      <td>0.820506</td>\n",
       "      <td>full</td>\n",
       "    </tr>\n",
       "    <tr>\n",
       "      <th>1</th>\n",
       "      <td>Decision Tree Classifier</td>\n",
       "      <td>0.803045</td>\n",
       "      <td>0.967563</td>\n",
       "      <td>0.798393</td>\n",
       "      <td>full</td>\n",
       "    </tr>\n",
       "    <tr>\n",
       "      <th>2</th>\n",
       "      <td>Random Forest Classifier</td>\n",
       "      <td>0.832761</td>\n",
       "      <td>0.967541</td>\n",
       "      <td>0.830440</td>\n",
       "      <td>full</td>\n",
       "    </tr>\n",
       "    <tr>\n",
       "      <th>3</th>\n",
       "      <td>Extra Trees Classifier</td>\n",
       "      <td>0.825030</td>\n",
       "      <td>0.967563</td>\n",
       "      <td>0.823616</td>\n",
       "      <td>full</td>\n",
       "    </tr>\n",
       "    <tr>\n",
       "      <th>4</th>\n",
       "      <td>Ada Boost Classifier</td>\n",
       "      <td>0.821639</td>\n",
       "      <td>0.822697</td>\n",
       "      <td>0.823011</td>\n",
       "      <td>full</td>\n",
       "    </tr>\n",
       "    <tr>\n",
       "      <th>5</th>\n",
       "      <td>Gradient Boosting Classifier</td>\n",
       "      <td>0.841637</td>\n",
       "      <td>0.843537</td>\n",
       "      <td>0.839596</td>\n",
       "      <td>full</td>\n",
       "    </tr>\n",
       "    <tr>\n",
       "      <th>6</th>\n",
       "      <td>K Nearest Neighbours</td>\n",
       "      <td>0.809653</td>\n",
       "      <td>0.864291</td>\n",
       "      <td>0.809795</td>\n",
       "      <td>full</td>\n",
       "    </tr>\n",
       "    <tr>\n",
       "      <th>7</th>\n",
       "      <td>Multinomial Naive Bayes</td>\n",
       "      <td>0.799050</td>\n",
       "      <td>0.799482</td>\n",
       "      <td>0.797098</td>\n",
       "      <td>full</td>\n",
       "    </tr>\n",
       "    <tr>\n",
       "      <th>8</th>\n",
       "      <td>Categorical Naive Bayes</td>\n",
       "      <td>0.788964</td>\n",
       "      <td>0.789375</td>\n",
       "      <td>0.785091</td>\n",
       "      <td>full</td>\n",
       "    </tr>\n",
       "  </tbody>\n",
       "</table>\n",
       "</div>"
      ],
      "text/plain": [
       "                          Model   Mean CV  Training      Test features\n",
       "0           Logistic Regression  0.821402  0.822114  0.820506     full\n",
       "1      Decision Tree Classifier  0.803045  0.967563  0.798393     full\n",
       "2      Random Forest Classifier  0.832761  0.967541  0.830440     full\n",
       "3        Extra Trees Classifier  0.825030  0.967563  0.823616     full\n",
       "4          Ada Boost Classifier  0.821639  0.822697  0.823011     full\n",
       "5  Gradient Boosting Classifier  0.841637  0.843537  0.839596     full\n",
       "6          K Nearest Neighbours  0.809653  0.864291  0.809795     full\n",
       "7       Multinomial Naive Bayes  0.799050  0.799482  0.797098     full\n",
       "8       Categorical Naive Bayes  0.788964  0.789375  0.785091     full"
      ]
     },
     "execution_count": 77,
     "metadata": {},
     "output_type": "execute_result"
    }
   ],
   "source": [
    "# Combine lists for the full feature set into a data frame\n",
    "\n",
    "scores_df = pd.DataFrame({'Model' : model_names,\n",
    "                          'Mean CV' : mean_cv,\n",
    "                          'Training' : training,\n",
    "                          'Test' : test})\n",
    "\n",
    "scores_df['features'] = 'full'\n",
    "\n",
    "scores_df"
   ]
  },
  {
   "cell_type": "markdown",
   "id": "3ae1e248",
   "metadata": {},
   "source": [
    "### Analysis\n",
    "\n",
    "The logistic regression model appears to be a suitable candidate, with very similar CV / training / test scores suggesting a consistent model that trains well on unseen data. The three tree classifiers show a massive overfit as evidenced by the inflated training scores, these trees likely require pruning, or to be given a smaller subset of features to grow with, although it is interesting to note the Random Forest Classifier has one of the largest mean CV scores, despite this overfit. The gradient booster models have also performed well, with the strongest being the 'gradient boosting classifier', another consistent model. \n",
    "\n",
    "The Naive Bayes models will be left out of futher analysis, as well as being the most poorly performing models they tend to be more useful for higher dimensional data, whereas we will be decreasing the dimensions in the next section. "
   ]
  },
  {
   "cell_type": "code",
   "execution_count": 78,
   "id": "a4e4535f",
   "metadata": {},
   "outputs": [
    {
     "data": {
      "text/plain": [
       "(57882, 20)"
      ]
     },
     "execution_count": 78,
     "metadata": {},
     "output_type": "execute_result"
    }
   ],
   "source": [
    "# Construct a new features set using the reduced features identified by the Kbest chi-squared algorithm\n",
    "\n",
    "x_dum_red = x_dum[reduced_features]\n",
    "x_dum_red.shape"
   ]
  },
  {
   "cell_type": "code",
   "execution_count": 79,
   "id": "b2482c04",
   "metadata": {},
   "outputs": [],
   "source": [
    "# New train test split for reduced features\n",
    "\n",
    "x_train_r, x_test_r, y_train_r, y_test_r = train_test_split(\n",
    "    x_dum_red, y, test_size=0.2, random_state=1, stratify=y)"
   ]
  },
  {
   "cell_type": "code",
   "execution_count": 80,
   "id": "48520882",
   "metadata": {},
   "outputs": [],
   "source": [
    "# New scaled reduced features \n",
    "\n",
    "scaler = StandardScaler()\n",
    "\n",
    "x_train_std_r = scaler.fit_transform(x_train_r)\n",
    "x_test_std_r = scaler.transform(x_test_r)\n",
    "\n",
    "x_train_std_r = pd.DataFrame(x_train, columns=x_dum_red.columns)\n",
    "x_test_std_r = pd.DataFrame(x_test, columns=x_dum_red.columns)"
   ]
  },
  {
   "cell_type": "code",
   "execution_count": 81,
   "id": "12a2a7b5",
   "metadata": {},
   "outputs": [],
   "source": [
    "# Add the scores from the reduced feature set models to lists \n",
    "\n",
    "mean_cv = []\n",
    "training = []\n",
    "test = []\n",
    "\n",
    "for i in models:\n",
    "    scores = model_accuracy(i, x_train_std_r, y_train_r, x_test_std_r, y_test_r, cv=5)\n",
    "    mean_cv.append(scores[0])\n",
    "    training.append(scores[1])\n",
    "    test.append(scores[2])"
   ]
  },
  {
   "cell_type": "code",
   "execution_count": 82,
   "id": "c01e7279",
   "metadata": {},
   "outputs": [],
   "source": [
    "# Model names for reduced features set \n",
    "\n",
    "model_names = ['Logistic Regression','Decision Tree Classifier','Random Forest Classifier','Extra Trees Classifier',\n",
    "              'Ada Boost Classifier', 'Gradient Boosting Classifier','K Nearest Neighbours']"
   ]
  },
  {
   "cell_type": "code",
   "execution_count": 83,
   "id": "7724e719",
   "metadata": {},
   "outputs": [
    {
     "data": {
      "text/html": [
       "<div>\n",
       "<style scoped>\n",
       "    .dataframe tbody tr th:only-of-type {\n",
       "        vertical-align: middle;\n",
       "    }\n",
       "\n",
       "    .dataframe tbody tr th {\n",
       "        vertical-align: top;\n",
       "    }\n",
       "\n",
       "    .dataframe thead th {\n",
       "        text-align: right;\n",
       "    }\n",
       "</style>\n",
       "<table border=\"1\" class=\"dataframe\">\n",
       "  <thead>\n",
       "    <tr style=\"text-align: right;\">\n",
       "      <th></th>\n",
       "      <th>Model</th>\n",
       "      <th>Mean CV</th>\n",
       "      <th>Training</th>\n",
       "      <th>Test</th>\n",
       "      <th>features</th>\n",
       "    </tr>\n",
       "  </thead>\n",
       "  <tbody>\n",
       "    <tr>\n",
       "      <th>0</th>\n",
       "      <td>Logistic Regression</td>\n",
       "      <td>0.814599</td>\n",
       "      <td>0.815268</td>\n",
       "      <td>0.812214</td>\n",
       "      <td>reduced</td>\n",
       "    </tr>\n",
       "    <tr>\n",
       "      <th>1</th>\n",
       "      <td>Decision Tree Classifier</td>\n",
       "      <td>0.813497</td>\n",
       "      <td>0.866969</td>\n",
       "      <td>0.816274</td>\n",
       "      <td>reduced</td>\n",
       "    </tr>\n",
       "    <tr>\n",
       "      <th>2</th>\n",
       "      <td>Random Forest Classifier</td>\n",
       "      <td>0.821445</td>\n",
       "      <td>0.866969</td>\n",
       "      <td>0.821802</td>\n",
       "      <td>reduced</td>\n",
       "    </tr>\n",
       "    <tr>\n",
       "      <th>3</th>\n",
       "      <td>Extra Trees Classifier</td>\n",
       "      <td>0.816953</td>\n",
       "      <td>0.866969</td>\n",
       "      <td>0.820852</td>\n",
       "      <td>reduced</td>\n",
       "    </tr>\n",
       "    <tr>\n",
       "      <th>4</th>\n",
       "      <td>Ada Boost Classifier</td>\n",
       "      <td>0.816758</td>\n",
       "      <td>0.815981</td>\n",
       "      <td>0.811609</td>\n",
       "      <td>reduced</td>\n",
       "    </tr>\n",
       "    <tr>\n",
       "      <th>5</th>\n",
       "      <td>Gradient Boosting Classifier</td>\n",
       "      <td>0.833668</td>\n",
       "      <td>0.835461</td>\n",
       "      <td>0.830267</td>\n",
       "      <td>reduced</td>\n",
       "    </tr>\n",
       "    <tr>\n",
       "      <th>6</th>\n",
       "      <td>K Nearest Neighbours</td>\n",
       "      <td>0.810128</td>\n",
       "      <td>0.832826</td>\n",
       "      <td>0.803058</td>\n",
       "      <td>reduced</td>\n",
       "    </tr>\n",
       "  </tbody>\n",
       "</table>\n",
       "</div>"
      ],
      "text/plain": [
       "                          Model   Mean CV  Training      Test features\n",
       "0           Logistic Regression  0.814599  0.815268  0.812214  reduced\n",
       "1      Decision Tree Classifier  0.813497  0.866969  0.816274  reduced\n",
       "2      Random Forest Classifier  0.821445  0.866969  0.821802  reduced\n",
       "3        Extra Trees Classifier  0.816953  0.866969  0.820852  reduced\n",
       "4          Ada Boost Classifier  0.816758  0.815981  0.811609  reduced\n",
       "5  Gradient Boosting Classifier  0.833668  0.835461  0.830267  reduced\n",
       "6          K Nearest Neighbours  0.810128  0.832826  0.803058  reduced"
      ]
     },
     "execution_count": 83,
     "metadata": {},
     "output_type": "execute_result"
    }
   ],
   "source": [
    "# Create a data frame showing the scores from the reduced features set models\n",
    "\n",
    "scores_df_2 = pd.DataFrame({'Model' : model_names,\n",
    "                            'Mean CV' : mean_cv,\n",
    "                            'Training' : training,\n",
    "                            'Test' : test})\n",
    "\n",
    "scores_df_2['features'] = 'reduced'\n",
    "\n",
    "scores_df_2"
   ]
  },
  {
   "cell_type": "code",
   "execution_count": 84,
   "id": "3a21142f",
   "metadata": {},
   "outputs": [
    {
     "data": {
      "text/html": [
       "<div>\n",
       "<style scoped>\n",
       "    .dataframe tbody tr th:only-of-type {\n",
       "        vertical-align: middle;\n",
       "    }\n",
       "\n",
       "    .dataframe tbody tr th {\n",
       "        vertical-align: top;\n",
       "    }\n",
       "\n",
       "    .dataframe thead th {\n",
       "        text-align: right;\n",
       "    }\n",
       "</style>\n",
       "<table border=\"1\" class=\"dataframe\">\n",
       "  <thead>\n",
       "    <tr style=\"text-align: right;\">\n",
       "      <th></th>\n",
       "      <th>Model</th>\n",
       "      <th>Mean CV</th>\n",
       "      <th>Training</th>\n",
       "      <th>Test</th>\n",
       "      <th>features</th>\n",
       "    </tr>\n",
       "  </thead>\n",
       "  <tbody>\n",
       "    <tr>\n",
       "      <th>5</th>\n",
       "      <td>Gradient Boosting Classifier</td>\n",
       "      <td>0.841637</td>\n",
       "      <td>0.843537</td>\n",
       "      <td>0.839596</td>\n",
       "      <td>full</td>\n",
       "    </tr>\n",
       "    <tr>\n",
       "      <th>14</th>\n",
       "      <td>Gradient Boosting Classifier</td>\n",
       "      <td>0.833668</td>\n",
       "      <td>0.835461</td>\n",
       "      <td>0.830267</td>\n",
       "      <td>reduced</td>\n",
       "    </tr>\n",
       "    <tr>\n",
       "      <th>2</th>\n",
       "      <td>Random Forest Classifier</td>\n",
       "      <td>0.832761</td>\n",
       "      <td>0.967541</td>\n",
       "      <td>0.830440</td>\n",
       "      <td>full</td>\n",
       "    </tr>\n",
       "    <tr>\n",
       "      <th>3</th>\n",
       "      <td>Extra Trees Classifier</td>\n",
       "      <td>0.825030</td>\n",
       "      <td>0.967563</td>\n",
       "      <td>0.823616</td>\n",
       "      <td>full</td>\n",
       "    </tr>\n",
       "    <tr>\n",
       "      <th>4</th>\n",
       "      <td>Ada Boost Classifier</td>\n",
       "      <td>0.821639</td>\n",
       "      <td>0.822697</td>\n",
       "      <td>0.823011</td>\n",
       "      <td>full</td>\n",
       "    </tr>\n",
       "    <tr>\n",
       "      <th>11</th>\n",
       "      <td>Random Forest Classifier</td>\n",
       "      <td>0.821445</td>\n",
       "      <td>0.866969</td>\n",
       "      <td>0.821802</td>\n",
       "      <td>reduced</td>\n",
       "    </tr>\n",
       "    <tr>\n",
       "      <th>0</th>\n",
       "      <td>Logistic Regression</td>\n",
       "      <td>0.821402</td>\n",
       "      <td>0.822114</td>\n",
       "      <td>0.820506</td>\n",
       "      <td>full</td>\n",
       "    </tr>\n",
       "    <tr>\n",
       "      <th>12</th>\n",
       "      <td>Extra Trees Classifier</td>\n",
       "      <td>0.816953</td>\n",
       "      <td>0.866969</td>\n",
       "      <td>0.820852</td>\n",
       "      <td>reduced</td>\n",
       "    </tr>\n",
       "    <tr>\n",
       "      <th>13</th>\n",
       "      <td>Ada Boost Classifier</td>\n",
       "      <td>0.816758</td>\n",
       "      <td>0.815981</td>\n",
       "      <td>0.811609</td>\n",
       "      <td>reduced</td>\n",
       "    </tr>\n",
       "    <tr>\n",
       "      <th>9</th>\n",
       "      <td>Logistic Regression</td>\n",
       "      <td>0.814599</td>\n",
       "      <td>0.815268</td>\n",
       "      <td>0.812214</td>\n",
       "      <td>reduced</td>\n",
       "    </tr>\n",
       "    <tr>\n",
       "      <th>10</th>\n",
       "      <td>Decision Tree Classifier</td>\n",
       "      <td>0.813497</td>\n",
       "      <td>0.866969</td>\n",
       "      <td>0.816274</td>\n",
       "      <td>reduced</td>\n",
       "    </tr>\n",
       "    <tr>\n",
       "      <th>15</th>\n",
       "      <td>K Nearest Neighbours</td>\n",
       "      <td>0.810128</td>\n",
       "      <td>0.832826</td>\n",
       "      <td>0.803058</td>\n",
       "      <td>reduced</td>\n",
       "    </tr>\n",
       "    <tr>\n",
       "      <th>6</th>\n",
       "      <td>K Nearest Neighbours</td>\n",
       "      <td>0.809653</td>\n",
       "      <td>0.864291</td>\n",
       "      <td>0.809795</td>\n",
       "      <td>full</td>\n",
       "    </tr>\n",
       "    <tr>\n",
       "      <th>1</th>\n",
       "      <td>Decision Tree Classifier</td>\n",
       "      <td>0.803045</td>\n",
       "      <td>0.967563</td>\n",
       "      <td>0.798393</td>\n",
       "      <td>full</td>\n",
       "    </tr>\n",
       "    <tr>\n",
       "      <th>7</th>\n",
       "      <td>Multinomial Naive Bayes</td>\n",
       "      <td>0.799050</td>\n",
       "      <td>0.799482</td>\n",
       "      <td>0.797098</td>\n",
       "      <td>full</td>\n",
       "    </tr>\n",
       "    <tr>\n",
       "      <th>8</th>\n",
       "      <td>Categorical Naive Bayes</td>\n",
       "      <td>0.788964</td>\n",
       "      <td>0.789375</td>\n",
       "      <td>0.785091</td>\n",
       "      <td>full</td>\n",
       "    </tr>\n",
       "  </tbody>\n",
       "</table>\n",
       "</div>"
      ],
      "text/plain": [
       "                           Model   Mean CV  Training      Test features\n",
       "5   Gradient Boosting Classifier  0.841637  0.843537  0.839596     full\n",
       "14  Gradient Boosting Classifier  0.833668  0.835461  0.830267  reduced\n",
       "2       Random Forest Classifier  0.832761  0.967541  0.830440     full\n",
       "3         Extra Trees Classifier  0.825030  0.967563  0.823616     full\n",
       "4           Ada Boost Classifier  0.821639  0.822697  0.823011     full\n",
       "11      Random Forest Classifier  0.821445  0.866969  0.821802  reduced\n",
       "0            Logistic Regression  0.821402  0.822114  0.820506     full\n",
       "12        Extra Trees Classifier  0.816953  0.866969  0.820852  reduced\n",
       "13          Ada Boost Classifier  0.816758  0.815981  0.811609  reduced\n",
       "9            Logistic Regression  0.814599  0.815268  0.812214  reduced\n",
       "10      Decision Tree Classifier  0.813497  0.866969  0.816274  reduced\n",
       "15          K Nearest Neighbours  0.810128  0.832826  0.803058  reduced\n",
       "6           K Nearest Neighbours  0.809653  0.864291  0.809795     full\n",
       "1       Decision Tree Classifier  0.803045  0.967563  0.798393     full\n",
       "7        Multinomial Naive Bayes  0.799050  0.799482  0.797098     full\n",
       "8        Categorical Naive Bayes  0.788964  0.789375  0.785091     full"
      ]
     },
     "execution_count": 84,
     "metadata": {},
     "output_type": "execute_result"
    }
   ],
   "source": [
    "# Concat the two scoring data frames and sort by highest Mean CV score\n",
    "\n",
    "scores = pd.concat([scores_df, scores_df_2], ignore_index=True)\n",
    "scores.sort_values(by=['Mean CV','Training','Test'], ascending=False)"
   ]
  },
  {
   "cell_type": "code",
   "execution_count": 85,
   "id": "6b644a0d",
   "metadata": {},
   "outputs": [],
   "source": [
    "scores_CI = scores.reset_index()"
   ]
  },
  {
   "cell_type": "code",
   "execution_count": 86,
   "id": "c59223e7",
   "metadata": {},
   "outputs": [
    {
     "name": "stderr",
     "output_type": "stream",
     "text": [
      "<ipython-input-86-d393360921a9>:5: SettingWithCopyWarning: \n",
      "A value is trying to be set on a copy of a slice from a DataFrame\n",
      "\n",
      "See the caveats in the documentation: https://pandas.pydata.org/pandas-docs/stable/user_guide/indexing.html#returning-a-view-versus-a-copy\n",
      "  scores_CI.Model[i] = scores_CI.Model[i] + ' - ' + scores_CI.features[i]\n"
     ]
    }
   ],
   "source": [
    "scores_CI['Lower'] = scores_CI['Mean CV']\n",
    "scores_CI['Upper'] = scores_CI['Mean CV']\n",
    "\n",
    "for i in range(len(scores_CI)):\n",
    "    scores_CI.Model[i] = scores_CI.Model[i] + ' - ' + scores_CI.features[i]"
   ]
  },
  {
   "cell_type": "code",
   "execution_count": 87,
   "id": "d604b36b",
   "metadata": {},
   "outputs": [],
   "source": [
    "scores_CI = scores_CI.drop(columns =['index','Training','Test','features'])"
   ]
  },
  {
   "cell_type": "code",
   "execution_count": 88,
   "id": "6d4c637c",
   "metadata": {},
   "outputs": [],
   "source": [
    "def CI_lower(x):\n",
    "    y = x + 1.96 *((x * (1 - x)) / 57882)**0.5\n",
    "    return y \n",
    "\n",
    "def CI_upper(x):\n",
    "    y = x - 1.96 * ((x * (1 - x)) / 57882)**0.5\n",
    "    return y "
   ]
  },
  {
   "cell_type": "code",
   "execution_count": 89,
   "id": "918d891a",
   "metadata": {},
   "outputs": [],
   "source": [
    "scores_CI.Lower = scores_CI.Lower.map(CI_lower)\n",
    "scores_CI.Upper = scores_CI.Upper.map(CI_upper)"
   ]
  },
  {
   "cell_type": "code",
   "execution_count": 90,
   "id": "366854bc",
   "metadata": {},
   "outputs": [
    {
     "data": {
      "image/png": "[encoded data removed]",
      "text/plain": [
       "<Figure size 432x288 with 1 Axes>"
      ]
     },
     "metadata": {
      "needs_background": "light"
     },
     "output_type": "display_data"
    }
   ],
   "source": [
    "for lower,upper,y in zip(scores_CI['Lower'],scores_CI['Upper'],range(len(scores_CI))):\n",
    "    plt.plot((lower,upper),(y,y),'ro-')\n",
    "    plt.xlim(0.78,0.85)\n",
    "plt.title('Confidence intervals for Mean CV score per model')\n",
    "plt.yticks(range(len(scores_CI)),list(scores_CI['Model']));\n",
    "\n",
    "plt.savefig('CI_inital_models.png', bbox_inches='tight')"
   ]
  },
  {
   "cell_type": "markdown",
   "id": "e00feb5c",
   "metadata": {},
   "source": [
    "### Analysis\n",
    "\n",
    "The most promising model is the Gradient Boosting Classifier, which performed well with both sets of features, but better with the full set. The reduced set of features helped both the Extra Trees classifier and the Random Forest Classifier's overfitting problem, but at the expense of decreasing scores across the model as a whole. these models may still be possible candidates, but the remaining overfit on the training set means the features could use further pruning. The next appropriate model is the Logistic Regression because although this model had a slightly lower Mean CV score than some of the others, it has very close scores across all measures, suggesting a stable model. In order to pursue both a black box and white box model (for interpretability) I will further investigate the Gradient Boosting Classifier and the Logistic Regression Model, both with the full set of features, as identified by the table above. "
   ]
  },
  {
   "cell_type": "markdown",
   "id": "7b8c8ce9",
   "metadata": {},
   "source": [
    "## Model Tuning\n",
    "\n",
    "The most promising models from the previous section are the Gradient Boosting Classifer with the full features set and the Logistic Regression model, also on the full features set. I will now attempt to increase the accuracy, or other scoring metrics, of these models by tuning the hyperparameters with a GridSearch and by using Bagging models. The optimised models will then be evaluated for quality / usefullness.  "
   ]
  },
  {
   "cell_type": "code",
   "execution_count": 91,
   "id": "88aeae03",
   "metadata": {},
   "outputs": [],
   "source": [
    "from sklearn.linear_model import LogisticRegression\n",
    "from sklearn.preprocessing import StandardScaler\n",
    "from sklearn.linear_model import LogisticRegressionCV\n",
    "from sklearn.model_selection import cross_val_score\n",
    "from sklearn.metrics import log_loss\n",
    "from sklearn.neighbors import KNeighborsClassifier\n",
    "from sklearn.metrics import confusion_matrix\n",
    "from sklearn.metrics import plot_confusion_matrix, plot_roc_curve\n",
    "from sklearn.metrics import accuracy_score\n",
    "from sklearn.metrics import precision_score\n",
    "from sklearn.metrics import f1_score\n",
    "from sklearn.metrics import classification_report\n",
    "from sklearn.metrics import roc_auc_score, average_precision_score, plot_roc_curve, plot_precision_recall_curve\n",
    "from sklearn.model_selection import train_test_split\n",
    "from sklearn.metrics import mean_squared_error\n",
    "from sklearn.model_selection import train_test_split, GridSearchCV, cross_val_score\n",
    "from sklearn.ensemble import BaggingClassifier\n",
    "from sklearn.tree import DecisionTreeClassifier\n",
    "import statsmodels.api as sm\n",
    "from yellowbrick.classifier import DiscriminationThreshold\n",
    "from sklearn.neural_network import MLPClassifier\n",
    "from sklearn import metrics\n",
    "from sklearn.model_selection import RandomizedSearchCV"
   ]
  },
  {
   "cell_type": "code",
   "execution_count": 92,
   "id": "7d2c93b8",
   "metadata": {},
   "outputs": [],
   "source": [
    "# A function to interpret a classification model, giving various accuracy scores, the log loss,\n",
    "# the confusion matrix, the classification report and the ROC and precision recall curves. \n",
    "\n",
    "def classification_model_interpreter(model, x_train, y_train, x_test, y_test, cv=5):\n",
    "    \n",
    "    # Fit the model\n",
    "    model.fit(x_train, y_train)\n",
    "    \n",
    "    # Cross validated accuracy scores \n",
    "    cv_scores = cross_val_score(model, x_train, y_train, cv=cv)\n",
    "    print('CV Scores: ', cv_scores)\n",
    "    \n",
    "    cv_score = np.mean(cross_val_score(model, x_train, y_train, cv=cv))\n",
    "    training_score = model.score(x_train, y_train)\n",
    "    test_score = model.score(x_test, y_test)\n",
    "    print('Mean CV Score: {}'.format(cv_score))\n",
    "    print('Training Score: {}'.format(training_score))\n",
    "    print('Test Score: {}'.format(test_score))\n",
    "    \n",
    "    # Log loss scores\n",
    "    log_loss_train = log_loss(y_train, model.predict_proba(x_train))\n",
    "    log_loss_test = log_loss(y_test, model.predict_proba(x_test))\n",
    "    print('Log loss for training set: {}'.format(log_loss_train))\n",
    "    print('Log loss for test set: {}'.format(log_loss_test))\n",
    "    \n",
    "    # Confusion Matrix\n",
    "    print('Training Confusion Matrix')\n",
    "    plot_confusion_matrix(model, x_train, y_train, cmap='Blues', values_format='.5f', normalize='true', labels=[1,0])\n",
    "    plt.show()\n",
    "    \n",
    "    # Classification report \n",
    "    predictions = model.predict(x_train)\n",
    "    print(classification_report(y_train, predictions, digits=4))\n",
    "    \n",
    "    # ROC Curve\n",
    "    fig, ax = plt.subplots(figsize=(6, 6))\n",
    "    plot_roc_curve(model, x_train, y_train, ax=ax)\n",
    "    ax.plot([0, 1], [0, 1], 'k--', linewidth=4)\n",
    "    plt.show()\n",
    "\n",
    "    roc_auc_score(y_train, model.predict_proba(x_train)[:, 1])\n",
    "\n",
    "    # Precision recall curve\n",
    "    fig, ax = plt.subplots(figsize=(6, 6))\n",
    "    plot_precision_recall_curve(model, x_train, y_train, ax=ax)\n",
    "    plt.show()\n",
    "\n",
    "    average_precision_score(y_train, model.predict_proba(x_train)[:, 1])"
   ]
  },
  {
   "cell_type": "markdown",
   "id": "bf3cafde",
   "metadata": {},
   "source": [
    "### Model Tuning the Gradient Boosting Classifier"
   ]
  },
  {
   "cell_type": "code",
   "execution_count": 56,
   "id": "13988b67",
   "metadata": {},
   "outputs": [
    {
     "data": {
      "text/plain": [
       "(0.8231724435806068, 0.8243602202785876, 0.8250842187095102)"
      ]
     },
     "execution_count": 56,
     "metadata": {},
     "output_type": "execute_result"
    }
   ],
   "source": [
    "# Gradient Boosting Model without hyperparameter tuning (manually selected parameters)\n",
    "\n",
    "gb_model = GradientBoostingClassifier(n_estimators=100, learning_rate=1.0,\n",
    "                                max_depth=1, random_state=0)\n",
    "\n",
    "model_accuracy(gb_model, x_train_std, y_train, x_test_std, y_test, cv=5)"
   ]
  },
  {
   "cell_type": "code",
   "execution_count": 57,
   "id": "9d3868e5",
   "metadata": {},
   "outputs": [
    {
     "name": "stdout",
     "output_type": "stream",
     "text": [
      "Fitting 5 folds for each of 162 candidates, totalling 810 fits\n"
     ]
    },
    {
     "data": {
      "text/plain": [
       "0.845761796782205"
      ]
     },
     "execution_count": 57,
     "metadata": {},
     "output_type": "execute_result"
    }
   ],
   "source": [
    "# Grid search for Gradient Boosting model \n",
    "\n",
    "gb_params = {'learning_rate':[0.3,0.4,0.5],\n",
    "            'n_estimators':[40,50,60],\n",
    "            'subsample':[0.5,0.6],\n",
    "            'min_samples_leaf':[2,3,4],\n",
    "            'max_features':[10,11,12]}\n",
    "\n",
    "gb_gs = GridSearchCV(GradientBoostingClassifier(), gb_params,verbose=1, cv=5, n_jobs=-1)\n",
    "\n",
    "gb_gs.fit(x_train_std, y_train)\n",
    "gb_gs.score(x_train_std,y_train)"
   ]
  },
  {
   "cell_type": "code",
   "execution_count": 58,
   "id": "67a9b5f4",
   "metadata": {},
   "outputs": [
    {
     "data": {
      "text/plain": [
       "{'learning_rate': 0.5,\n",
       " 'max_features': 10,\n",
       " 'min_samples_leaf': 3,\n",
       " 'n_estimators': 60,\n",
       " 'subsample': 0.6}"
      ]
     },
     "execution_count": 58,
     "metadata": {},
     "output_type": "execute_result"
    }
   ],
   "source": [
    "gb_gs.best_params_"
   ]
  },
  {
   "cell_type": "code",
   "execution_count": 93,
   "id": "dd28ec69",
   "metadata": {},
   "outputs": [],
   "source": [
    "# Best parameters for Gradient Boosting Model as identified by the gridsearch\n",
    "\n",
    "best_gb_gs = GradientBoostingClassifier(learning_rate=0.5,\n",
    "min_samples_leaf=3, n_estimators=60, subsample=0.6, max_features=10)"
   ]
  },
  {
   "cell_type": "code",
   "execution_count": 60,
   "id": "a27cfcc8",
   "metadata": {},
   "outputs": [
    {
     "name": "stdout",
     "output_type": "stream",
     "text": [
      "CV Scores:  [0.8478566  0.84224166 0.83414318 0.84440125 0.83079581]\n",
      "Mean CV Score: 0.842457617967822\n",
      "Training Score: 0.8461289277615808\n",
      "Test Score: 0.8427053640839596\n",
      "Log loss for training set: 0.35172483933649507\n",
      "Log loss for test set: 0.3605410144543856\n",
      "Training Confusion Matrix\n"
     ]
    },
    {
     "data": {
      "image/png": "[encoded data removed]",
      "text/plain": [
       "<Figure size 576x396 with 2 Axes>"
      ]
     },
     "metadata": {},
     "output_type": "display_data"
    },
    {
     "name": "stdout",
     "output_type": "stream",
     "text": [
      "              precision    recall  f1-score   support\n",
      "\n",
      "           0     0.8613    0.8997    0.8801     29056\n",
      "           1     0.8173    0.7559    0.7854     17249\n",
      "\n",
      "    accuracy                         0.8461     46305\n",
      "   macro avg     0.8393    0.8278    0.8327     46305\n",
      "weighted avg     0.8449    0.8461    0.8448     46305\n",
      "\n"
     ]
    },
    {
     "data": {
      "image/png": "[encoded data removed]",
      "text/plain": [
       "<Figure size 432x432 with 1 Axes>"
      ]
     },
     "metadata": {},
     "output_type": "display_data"
    },
    {
     "data": {
      "image/png": "[encoded data removed]",
      "text/plain": [
       "<Figure size 432x432 with 1 Axes>"
      ]
     },
     "metadata": {},
     "output_type": "display_data"
    }
   ],
   "source": [
    "# Classification model interpreter for Gradient Boosting Model \n",
    "\n",
    "classification_model_interpreter(best_gb_gs, x_train_std, y_train, x_test_std, y_test, cv=5)"
   ]
  },
  {
   "cell_type": "code",
   "execution_count": 61,
   "id": "b8d796a5",
   "metadata": {},
   "outputs": [
    {
     "data": {
      "image/png": "[encoded data removed]",
      "text/plain": [
       "<Figure size 576x396 with 1 Axes>"
      ]
     },
     "metadata": {},
     "output_type": "display_data"
    }
   ],
   "source": [
    "best_gb_gs_coef = pd.DataFrame(list(zip(x_train.columns, best_gb_gs.feature_importances_)))\n",
    "best_gb_gs_coef.columns = ['Feature', 'Coef']\n",
    "sorted_coef = best_gb_gs_coef.sort_values(by='Coef', ascending = False)\n",
    "sorted_coef\n",
    "non_zero_coef = sorted_coef[sorted_coef.Coef != 0]\n",
    "non_zero_coef.set_index('Feature', inplace=True)\n",
    "non_zero_coef.head(15)\n",
    "\n",
    "\n",
    "# Plot of coefficients\n",
    "non_zero_coef.Coef.head(10).plot(kind='barh');"
   ]
  },
  {
   "cell_type": "markdown",
   "id": "a510cb4a",
   "metadata": {},
   "source": [
    "### Gradient Boosting Classifier Interpretation and Evaluation\n",
    "\n",
    "The Gradient Boosting Classifier has performed very well with an overall accuracy rate of around 86% on the training data (slightly higher than the mean CV score, but not to a level of concern). The log loss for both the test and training set is low at around 33% and 35%, respectively. The class 0 label (that is, those to live) is very well predicted, with only 9% being misclassified as deceased incorrectly, which fits with this being the majority class. \n",
    "\n",
    "The results for the minority positive class of 1 are less favourable, which is not unexpected, with 23% of those individuals who died being classed as living. This is a major problem in a practical sense for our model, as we are interested in decreasing the number of people who die in these accidents. This imbalance is discussed and accounted for later in the project. \n",
    "\n",
    "The AUC for the ROC curve, which tells us how well the model is capable of distinguishing between classes, is very favourable at 93% and the AP (Average Precision) is also high at 90%. \n",
    "\n",
    "Overall this is an excellent model with some impressive scores. The baseline accuracy for the model was around 62% so we have exceeded this by 24%. The current issue with this model is the large rate of false negatives, this needs to be addressed in order to answer the initial question of the project and will require us to increase the recall score (simultaneously decreasing the precision score). \n"
   ]
  },
  {
   "cell_type": "markdown",
   "id": "ec590c59",
   "metadata": {},
   "source": [
    "### Wrap the Gradient Boosting Classifier with a Bagging Classifier to attempt to increase accuracy "
   ]
  },
  {
   "cell_type": "code",
   "execution_count": 62,
   "id": "9dd95b22",
   "metadata": {},
   "outputs": [],
   "source": [
    "bc_gb = BaggingClassifier(GradientBoostingClassifier(learning_rate=0.1,\n",
    "min_samples_leaf=1, n_estimators=100, subsample=1.0, max_depth=5, loss='deviance', min_samples_split=5))"
   ]
  },
  {
   "cell_type": "code",
   "execution_count": 63,
   "id": "ac3f0feb",
   "metadata": {},
   "outputs": [
    {
     "data": {
      "text/plain": [
       "(0.8498866213151928, 0.8578339272216823, 0.849615617171979)"
      ]
     },
     "execution_count": 63,
     "metadata": {},
     "output_type": "execute_result"
    }
   ],
   "source": [
    "model_accuracy(bc_gb, x_train_std, y_train, x_test_std, y_test, cv=5)"
   ]
  },
  {
   "cell_type": "code",
   "execution_count": 64,
   "id": "d6216d83",
   "metadata": {},
   "outputs": [
    {
     "name": "stdout",
     "output_type": "stream",
     "text": [
      "Fitting 5 folds for each of 12 candidates, totalling 60 fits\n"
     ]
    },
    {
     "data": {
      "text/plain": [
       "0.8575747759421228"
      ]
     },
     "execution_count": 64,
     "metadata": {},
     "output_type": "execute_result"
    }
   ],
   "source": [
    "# Grid search for Bagging Classifier with a gradient boosting classifier base estimator \n",
    "\n",
    "bc_params = {'n_estimators':[30,40,50],\n",
    "            'max_samples':[0.9,1.0],\n",
    "            'max_features':[0.9,1.0]}\n",
    "\n",
    "bc_gb_gs = GridSearchCV(BaggingClassifier(GradientBoostingClassifier(learning_rate=0.1,\n",
    "                    min_samples_leaf=1, n_estimators=100, subsample=1.0, max_depth=5, loss='deviance', \n",
    "                    min_samples_split=5)),bc_params,verbose=1, n_jobs=-1, cv=5)\n",
    "\n",
    "bc_gb_gs.fit(x_train_std, y_train)\n",
    "bc_gb_gs.score(x_train_std,y_train)"
   ]
  },
  {
   "cell_type": "code",
   "execution_count": 65,
   "id": "66972798",
   "metadata": {},
   "outputs": [
    {
     "data": {
      "text/plain": [
       "{'max_features': 1.0, 'max_samples': 1.0, 'n_estimators': 30}"
      ]
     },
     "execution_count": 65,
     "metadata": {},
     "output_type": "execute_result"
    }
   ],
   "source": [
    "bc_gb_gs.best_params_"
   ]
  },
  {
   "cell_type": "code",
   "execution_count": 66,
   "id": "5248907b",
   "metadata": {},
   "outputs": [],
   "source": [
    "best_bc_gb = BaggingClassifier(GradientBoostingClassifier(learning_rate=0.1,\n",
    "min_samples_leaf=1, n_estimators=100, subsample=1.0, max_depth=5, loss='deviance', min_samples_split=5),\n",
    "                              n_estimators=30 ,max_samples=1.0 ,max_features=1.0 )"
   ]
  },
  {
   "cell_type": "code",
   "execution_count": 67,
   "id": "b222b22e",
   "metadata": {},
   "outputs": [
    {
     "data": {
      "text/plain": [
       "(0.8499298131951193, 0.8578123312817191, 0.8494428608447785)"
      ]
     },
     "execution_count": 67,
     "metadata": {},
     "output_type": "execute_result"
    }
   ],
   "source": [
    "model_accuracy(best_bc_gb, x_train_std, y_train, x_test_std, y_test, cv=5)"
   ]
  },
  {
   "cell_type": "markdown",
   "id": "384cc452",
   "metadata": {},
   "source": [
    "The Bagging Classifier with the Gradient Boosting Classifier has not improved the accuracy score of the model further, hence this model will not be investigated further.  "
   ]
  },
  {
   "cell_type": "markdown",
   "id": "62bb2e4d",
   "metadata": {},
   "source": [
    "### Model Tuning the Linear Regression Model \n",
    "\n",
    "Although the accurach scores of the Linear Regression Model are lower than a number of the other models, it has the advantage of being white box and therefore more interpretable in terms of understanding how each coefficient relates to the classes in the fatality target. "
   ]
  },
  {
   "cell_type": "code",
   "execution_count": 68,
   "id": "38433dba",
   "metadata": {},
   "outputs": [
    {
     "name": "stdout",
     "output_type": "stream",
     "text": [
      "Fitting 5 folds for each of 150 candidates, totalling 750 fits\n"
     ]
    },
    {
     "name": "stderr",
     "output_type": "stream",
     "text": [
      "/opt/anaconda3/lib/python3.8/site-packages/joblib/externals/loky/process_executor.py:688: UserWarning: A worker stopped while some jobs were given to the executor. This can be caused by a too short worker timeout or by a memory leak.\n",
      "  warnings.warn(\n"
     ]
    },
    {
     "data": {
      "text/plain": [
       "{'C': 0.06866488450043001, 'penalty': 'l2', 'solver': 'newton-cg'}"
      ]
     },
     "execution_count": 68,
     "metadata": {},
     "output_type": "execute_result"
    }
   ],
   "source": [
    "# Start of Logistic Regression model, tune hyperparameters with gridsearch\n",
    "\n",
    "LR_model = LogisticRegression(max_iter=1000)\n",
    "\n",
    "gs_params = { 'penalty' : ['l2'],\n",
    "              'solver': ['newton-cg','sag','lbfgs'],\n",
    "              'C': np.logspace(-3, 0, 50)}\n",
    "\n",
    "lr_gridsearch = GridSearchCV(LR_model,\n",
    "                             gs_params,\n",
    "                             n_jobs=-1, \n",
    "                             cv=5, \n",
    "                             verbose=1)\n",
    "\n",
    "lr_gridsearch.fit(x_train, y_train)\n",
    "\n",
    "lr_gridsearch.best_params_"
   ]
  },
  {
   "cell_type": "code",
   "execution_count": 69,
   "id": "85b52c60",
   "metadata": {},
   "outputs": [],
   "source": [
    "best_lr = LogisticRegression(C = 0.025595479226995357, penalty= 'l2', solver= 'newton-cg')"
   ]
  },
  {
   "cell_type": "code",
   "execution_count": 70,
   "id": "ad100725",
   "metadata": {},
   "outputs": [
    {
     "name": "stdout",
     "output_type": "stream",
     "text": [
      "CV Scores:  [0.82971601 0.82226541 0.81503077 0.82150956 0.81265522]\n",
      "Mean CV Score: 0.8202353957455999\n",
      "Training Score: 0.8210776374041681\n",
      "Test Score: 0.8207653105294982\n",
      "Log loss for training set: 0.39296689650382804\n",
      "Log loss for test set: 0.397200130076861\n",
      "Training Confusion Matrix\n"
     ]
    },
    {
     "data": {
      "image/png": "[encoded data removed]",
      "text/plain": [
       "<Figure size 576x396 with 2 Axes>"
      ]
     },
     "metadata": {},
     "output_type": "display_data"
    },
    {
     "name": "stdout",
     "output_type": "stream",
     "text": [
      "              precision    recall  f1-score   support\n",
      "\n",
      "           0     0.8414    0.8809    0.8607     29056\n",
      "           1     0.7821    0.7204    0.7500     17249\n",
      "\n",
      "    accuracy                         0.8211     46305\n",
      "   macro avg     0.8118    0.8006    0.8053     46305\n",
      "weighted avg     0.8193    0.8211    0.8195     46305\n",
      "\n"
     ]
    },
    {
     "data": {
      "image/png": "[encoded data removed]",
      "text/plain": [
       "<Figure size 432x432 with 1 Axes>"
      ]
     },
     "metadata": {},
     "output_type": "display_data"
    },
    {
     "data": {
      "image/png": "[encoded data removed]",
      "text/plain": [
       "<Figure size 432x432 with 1 Axes>"
      ]
     },
     "metadata": {},
     "output_type": "display_data"
    }
   ],
   "source": [
    "classification_model_interpreter(best_lr, x_train, y_train, x_test, y_test, cv=5)"
   ]
  },
  {
   "cell_type": "markdown",
   "id": "b45c550c",
   "metadata": {},
   "source": [
    "### Logistic Regression Model Analysis and Evaluation \n",
    "\n",
    "We can see from the Logistic Regression model report that overall the model performed less favourably than the gradient boosting classifier in terms of accuracy and log loss for both the training and test sets. The AUC and AP numbers are also lower with 89% and 84% respectively (down from 93% and 90%).\n",
    "\n",
    "Again we see a fairly large proportion of false negatives at 28% of the total number of deaths, larger even than the gradient boosting classifier. Again this is a problem for the practical application of the model. The advantage of the logistic regression model however is that we can interpret the coefficients of the model as counting for the positive or negative class. This is addressed below. "
   ]
  },
  {
   "cell_type": "code",
   "execution_count": 71,
   "id": "21df1640",
   "metadata": {},
   "outputs": [
    {
     "data": {
      "image/png": "[encoded data removed]",
      "text/plain": [
       "<Figure size 576x396 with 1 Axes>"
      ]
     },
     "metadata": {},
     "output_type": "display_data"
    }
   ],
   "source": [
    "best_lr_coef = pd.DataFrame(list(zip(x_train.columns, best_lr.coef_[0])))\n",
    "best_lr_coef.columns = ['Feature', 'Coef']\n",
    "best_lr_coef['Absolute Coef'] = best_lr_coef.Coef.abs()\n",
    "sorted_coef = best_lr_coef.sort_values(by='Absolute Coef', ascending = False)\n",
    "sorted_coef\n",
    "non_zero_coef = sorted_coef[sorted_coef.Coef != 0]\n",
    "non_zero_coef.set_index('Feature', inplace=True)\n",
    "non_zero_coef.head(15)\n",
    "\n",
    "\n",
    "# Plot of coefficients\n",
    "non_zero_coef.Coef.head(15).plot(kind='barh');"
   ]
  },
  {
   "cell_type": "markdown",
   "id": "a0285c70",
   "metadata": {},
   "source": [
    "The coefficients above who those contributing to death on the positive x-axis and those contributing to life on the negative x-axis. Not suprisingly being on a motorcycle is the largest predictor for death, this was suggested by the graph in the EDA section of the project. Being ejected / having a head on collision (and therefore the largest relative speed with the other vehicle) and not using safety measure are also predictors of death, all intuitive outcomes. \n",
    "\n",
    "The largest predictors for the other class of life are being in a large vehicle (a bus or a truck), not being ejected, and using a safety measure, again all intutive outcomes. \n",
    "\n",
    "The strangest outcome again is the idea that having either a negative or a positive blood alcohol test predicts for death, whereas not having a test predicts for life. This oddity is a recurring theme in this project and is addressed in the further investigations section below. "
   ]
  },
  {
   "cell_type": "code",
   "execution_count": 72,
   "id": "09254a2a",
   "metadata": {},
   "outputs": [
    {
     "name": "stdout",
     "output_type": "stream",
     "text": [
      "Fitting 5 folds for each of 125 candidates, totalling 625 fits\n"
     ]
    },
    {
     "name": "stderr",
     "output_type": "stream",
     "text": [
      "/opt/anaconda3/lib/python3.8/site-packages/joblib/externals/loky/process_executor.py:688: UserWarning: A worker stopped while some jobs were given to the executor. This can be caused by a too short worker timeout or by a memory leak.\n",
      "  warnings.warn(\n"
     ]
    },
    {
     "data": {
      "text/plain": [
       "0.8214663643235072"
      ]
     },
     "execution_count": 72,
     "metadata": {},
     "output_type": "execute_result"
    }
   ],
   "source": [
    "# Wrap a bagging model around the logistic regression and score again\n",
    "\n",
    "lr_bc_params = {\n",
    "          'max_features': [x/10 for x in range(2,11,2)],\n",
    "          'max_samples': [x/10 for x in range(2,11,2)],\n",
    "          'n_estimators': [10*x for x in range(2,11,2)]}\n",
    "\n",
    "lr_bc_gs = GridSearchCV(BaggingClassifier(LogisticRegression(C = 0.025595479226995357, penalty= 'l2', \n",
    "                                        solver= 'newton-cg')), lr_bc_params,verbose=1, cv=5, n_jobs=-1)\n",
    "\n",
    "lr_bc_gs.fit(x_train_std, y_train)\n",
    "lr_bc_gs.score(x_train_std,y_train)"
   ]
  },
  {
   "cell_type": "code",
   "execution_count": 76,
   "id": "a23798a5",
   "metadata": {},
   "outputs": [
    {
     "data": {
      "text/plain": [
       "{'max_features': 1.0, 'max_samples': 1.0, 'n_estimators': 20}"
      ]
     },
     "execution_count": 76,
     "metadata": {},
     "output_type": "execute_result"
    }
   ],
   "source": [
    "lr_bc_gs.best_params_"
   ]
  },
  {
   "cell_type": "code",
   "execution_count": 77,
   "id": "dbf68b91",
   "metadata": {},
   "outputs": [],
   "source": [
    "best_lr_bc = BaggingClassifier(LogisticRegression(C = 0.025595479226995357, penalty= 'l2', solver= 'newton-cg'),\n",
    "                             max_samples=1.0, max_features=1.0 , n_estimators=20)"
   ]
  },
  {
   "cell_type": "code",
   "execution_count": 78,
   "id": "df036a53",
   "metadata": {},
   "outputs": [
    {
     "data": {
      "text/plain": [
       "(0.8205161429651225, 0.8215095562034338, 0.820333419711497)"
      ]
     },
     "execution_count": 78,
     "metadata": {},
     "output_type": "execute_result"
    }
   ],
   "source": [
    "model_accuracy(best_lr_bc, x_train, y_train, x_test, y_test, cv=5)"
   ]
  },
  {
   "cell_type": "markdown",
   "id": "33af0e28",
   "metadata": {},
   "source": [
    "The GridSearch Bagging Classifier for Logistic Regression did not yeild better accuracy scores than the optimized Logistic Regression model, hence there is no need to look further into these results."
   ]
  },
  {
   "cell_type": "markdown",
   "id": "225bf45a",
   "metadata": {},
   "source": [
    "### Fitting a feed forward multi-layer perceptron  (Neural Net) "
   ]
  },
  {
   "cell_type": "code",
   "execution_count": 81,
   "id": "d078851d",
   "metadata": {},
   "outputs": [
    {
     "name": "stdout",
     "output_type": "stream",
     "text": [
      "0.6386567325342836\n"
     ]
    }
   ],
   "source": [
    "clf_full = MLPClassifier(solver='lbfgs',\n",
    "                    alpha=10**(-10),\n",
    "                    hidden_layer_sizes=1,\n",
    "                    activation='identity',\n",
    "                    random_state=1,\n",
    "                    batch_size='auto',\n",
    "                    max_iter=1000\n",
    "                   )\n",
    "clf_full.fit(x_train_std, y_train)\n",
    "print(metrics.accuracy_score(y_train, clf_full.predict(x_train_std)))"
   ]
  },
  {
   "cell_type": "code",
   "execution_count": 83,
   "id": "c7832551",
   "metadata": {},
   "outputs": [
    {
     "name": "stdout",
     "output_type": "stream",
     "text": [
      "0.8152899254940071\n"
     ]
    }
   ],
   "source": [
    "clf_reduced = MLPClassifier(solver='lbfgs',\n",
    "                    alpha=10**(-10),\n",
    "                    hidden_layer_sizes=1,\n",
    "                    activation='identity',\n",
    "                    random_state=1,\n",
    "                    batch_size='auto',\n",
    "                    max_iter=1000\n",
    "                   )\n",
    "clf_reduced.fit(x_train_std_r, y_train)\n",
    "print(metrics.accuracy_score(y_train, clf_reduced.predict(x_train_std_r)))"
   ]
  },
  {
   "cell_type": "markdown",
   "id": "1fb17304",
   "metadata": {},
   "source": [
    "As we can see the full set of features gives a training scores that is barely above the baseline. The scores are better for the reduced set of features, which gives an accuracy training score of 0.815. I will now attempt cross-validation and further tuning in order to improve and evaluate this score. For this model I will use a Random Search rather than a Grid Search in order to decrease the computational cost of the model."
   ]
  },
  {
   "cell_type": "code",
   "execution_count": 84,
   "id": "563d1fd6",
   "metadata": {},
   "outputs": [
    {
     "data": {
      "text/plain": [
       "(0.8145340675952919, 0.8152899254940071, 0.8122138723330742)"
      ]
     },
     "execution_count": 84,
     "metadata": {},
     "output_type": "execute_result"
    }
   ],
   "source": [
    "model_accuracy(clf_reduced, x_train_std_r, y_train_r, x_test_std_r, y_test_r)"
   ]
  },
  {
   "cell_type": "markdown",
   "id": "2fef81b0",
   "metadata": {},
   "source": [
    "The neural net gives a stable model, as shown by the close scores in for the Mean CV,  training set and test set. "
   ]
  },
  {
   "cell_type": "code",
   "execution_count": 85,
   "id": "6f305171",
   "metadata": {},
   "outputs": [
    {
     "name": "stdout",
     "output_type": "stream",
     "text": [
      "Fitting 5 folds for each of 50 candidates, totalling 250 fits\n"
     ]
    },
    {
     "name": "stderr",
     "output_type": "stream",
     "text": [
      "/opt/anaconda3/lib/python3.8/site-packages/joblib/externals/loky/process_executor.py:688: UserWarning: A worker stopped while some jobs were given to the executor. This can be caused by a too short worker timeout or by a memory leak.\n",
      "  warnings.warn(\n"
     ]
    },
    {
     "data": {
      "text/plain": [
       "RandomizedSearchCV(cv=5,\n",
       "                   estimator=MLPClassifier(hidden_layer_sizes=(4, 4, 4, 4),\n",
       "                                           max_iter=1000),\n",
       "                   n_iter=50, n_jobs=-1,\n",
       "                   param_distributions={'activation': ['identity', 'logistic',\n",
       "                                                       'tanh', 'relu'],\n",
       "                                        'alpha': [1e-05, 0.0001, 0.001, 0.01],\n",
       "                                        'batch_size': ['auto', 20, 40, 60, 100],\n",
       "                                        'solver': ['lbfgs', 'sgd', 'adam']},\n",
       "                   random_state=35, verbose=2)"
      ]
     },
     "execution_count": 85,
     "metadata": {},
     "output_type": "execute_result"
    }
   ],
   "source": [
    "random_grid = {'solver':['lbfgs','sgd','adam'],\n",
    "               'alpha': [0.00001,0.0001,0.001,0.01],\n",
    "               'activation': ['identity','logistic','tanh','relu'],\n",
    "               'batch_size' : ['auto',20,40,60,100]}\n",
    "               \n",
    "\n",
    "model = MLPClassifier(hidden_layer_sizes=(4,4,4,4), max_iter=1000)\n",
    "\n",
    "rf_random = RandomizedSearchCV(estimator = model, param_distributions = random_grid, n_iter = 50, cv = 5, \n",
    "                               verbose=2, random_state=35, n_jobs = -1)\n",
    "\n",
    "rf_random.fit(x_train_std_r,y_train_r)"
   ]
  },
  {
   "cell_type": "code",
   "execution_count": 86,
   "id": "c08d4d6b",
   "metadata": {},
   "outputs": [
    {
     "data": {
      "text/plain": [
       "0.8333009394233883"
      ]
     },
     "execution_count": 86,
     "metadata": {},
     "output_type": "execute_result"
    }
   ],
   "source": [
    "rf_random.best_score_"
   ]
  },
  {
   "cell_type": "code",
   "execution_count": 87,
   "id": "cd87c1f2",
   "metadata": {},
   "outputs": [
    {
     "data": {
      "text/plain": [
       "{'solver': 'adam', 'batch_size': 100, 'alpha': 1e-05, 'activation': 'logistic'}"
      ]
     },
     "execution_count": 87,
     "metadata": {},
     "output_type": "execute_result"
    }
   ],
   "source": [
    "rf_random.best_params_"
   ]
  },
  {
   "cell_type": "code",
   "execution_count": 88,
   "id": "daf82c55",
   "metadata": {},
   "outputs": [],
   "source": [
    "nn_model = MLPClassifier(hidden_layer_sizes=(4,4,4,4), max_iter=1000, solver='adam',batch_size=40,\n",
    "                     alpha=0.001, activation='logistic')"
   ]
  },
  {
   "cell_type": "code",
   "execution_count": 89,
   "id": "45ff77ae",
   "metadata": {},
   "outputs": [
    {
     "data": {
      "text/plain": [
       "(0.8314436885865458, 0.8328258287441961, 0.8339811695603352)"
      ]
     },
     "execution_count": 89,
     "metadata": {},
     "output_type": "execute_result"
    }
   ],
   "source": [
    "model_accuracy(nn_model, x_train_std_r, y_train_r, x_test_std_r, y_test_r)"
   ]
  },
  {
   "cell_type": "markdown",
   "id": "81d3267f",
   "metadata": {},
   "source": [
    "We can see that the accuracy of the Neural Network model trained on the best parameters from the RandomCV search has high accuracy and good consistency, in fact the accuracy scores for this model are better than the optimised Logistic Regression model detailed above. However, the other black box model we have used (i.e the Gradient Boosting Classifier) still has the largest accuracy scores and still serves as the most appropriate model. "
   ]
  },
  {
   "cell_type": "markdown",
   "id": "b5db0c0e",
   "metadata": {},
   "source": [
    "### Changing the threshold of the model to improve scores relevant to fatalities (false negatives) \n",
    "\n",
    "We would like to decrease the rate of false negatives, these values represent situations where we have predicted the person will live when actually they will die. Not sending emergency services in a serious situation could be fatal, whereas sending emergency services or using other resources when someone lives has a lower cost to life. As such, we can tailor the probability threshold of the predictions to favour a decrease in the rate of false negatives. We will do this procedure on the best scoring model, which is the gradient boosting classifier. "
   ]
  },
  {
   "cell_type": "code",
   "execution_count": 90,
   "id": "f03978e2",
   "metadata": {},
   "outputs": [
    {
     "name": "stderr",
     "output_type": "stream",
     "text": [
      "/opt/anaconda3/lib/python3.8/site-packages/sklearn/base.py:445: UserWarning: X does not have valid feature names, but GradientBoostingClassifier was fitted with feature names\n",
      "  warnings.warn(\n"
     ]
    },
    {
     "data": {
      "image/png": "[encoded data removed]",
      "text/plain": [
       "<Figure size 576x396 with 1 Axes>"
      ]
     },
     "metadata": {},
     "output_type": "display_data"
    }
   ],
   "source": [
    "visualizer = DiscriminationThreshold(best_gb_gs)\n",
    "\n",
    "visualizer.fit(x_train_std, y_train)  \n",
    "\n",
    "visualizer.finalize()"
   ]
  },
  {
   "cell_type": "markdown",
   "id": "b64bfa21",
   "metadata": {},
   "source": [
    "The discrimination threshold plot shows the varying scores for the classification model across different probability thresholds. The vertical dashed-line shows the optimised F1 score, that is the maximum harmonic mean between precision and recall. This will serve as the new threshold for the model in order to strike the correct balance between between a decrease in false negative and an increase in false positives, representing a balance between the loss of human life and the cost of resources. "
   ]
  },
  {
   "cell_type": "code",
   "execution_count": 91,
   "id": "9c1a0875",
   "metadata": {},
   "outputs": [
    {
     "data": {
      "text/html": [
       "<div>\n",
       "<style scoped>\n",
       "    .dataframe tbody tr th:only-of-type {\n",
       "        vertical-align: middle;\n",
       "    }\n",
       "\n",
       "    .dataframe tbody tr th {\n",
       "        vertical-align: top;\n",
       "    }\n",
       "\n",
       "    .dataframe thead th {\n",
       "        text-align: right;\n",
       "    }\n",
       "</style>\n",
       "<table border=\"1\" class=\"dataframe\">\n",
       "  <thead>\n",
       "    <tr style=\"text-align: right;\">\n",
       "      <th></th>\n",
       "      <th>Live</th>\n",
       "      <th>Die</th>\n",
       "    </tr>\n",
       "  </thead>\n",
       "  <tbody>\n",
       "    <tr>\n",
       "      <th>0</th>\n",
       "      <td>0.874734</td>\n",
       "      <td>0.125266</td>\n",
       "    </tr>\n",
       "    <tr>\n",
       "      <th>1</th>\n",
       "      <td>0.964649</td>\n",
       "      <td>0.035351</td>\n",
       "    </tr>\n",
       "    <tr>\n",
       "      <th>2</th>\n",
       "      <td>0.827756</td>\n",
       "      <td>0.172244</td>\n",
       "    </tr>\n",
       "    <tr>\n",
       "      <th>3</th>\n",
       "      <td>0.621818</td>\n",
       "      <td>0.378182</td>\n",
       "    </tr>\n",
       "    <tr>\n",
       "      <th>4</th>\n",
       "      <td>0.975321</td>\n",
       "      <td>0.024679</td>\n",
       "    </tr>\n",
       "  </tbody>\n",
       "</table>\n",
       "</div>"
      ],
      "text/plain": [
       "       Live       Die\n",
       "0  0.874734  0.125266\n",
       "1  0.964649  0.035351\n",
       "2  0.827756  0.172244\n",
       "3  0.621818  0.378182\n",
       "4  0.975321  0.024679"
      ]
     },
     "execution_count": 91,
     "metadata": {},
     "output_type": "execute_result"
    }
   ],
   "source": [
    "y_train_pp = pd.DataFrame(best_gb_gs.predict_proba(x_train), \n",
    "             columns=['Live', 'Die'])\n",
    "y_train_pp.head()"
   ]
  },
  {
   "cell_type": "code",
   "execution_count": 95,
   "id": "38707bed",
   "metadata": {},
   "outputs": [],
   "source": [
    "# A function to return the predictions based on an amended probability threshold\n",
    "\n",
    "def predict_at_threshold(x, threshold=0.4):\n",
    "    if x >= threshold:\n",
    "        return 1\n",
    "    else:\n",
    "        return 0"
   ]
  },
  {
   "cell_type": "code",
   "execution_count": 96,
   "id": "bfaeb54b",
   "metadata": {},
   "outputs": [],
   "source": [
    "y_train_pp['Predicted labels'] = y_train_pp.Die.map(predict_at_threshold)\n",
    "predictions = y_train_pp['Predicted labels']"
   ]
  },
  {
   "cell_type": "code",
   "execution_count": 97,
   "id": "cbff58d7",
   "metadata": {},
   "outputs": [
    {
     "data": {
      "text/plain": [
       "array([[0.86037307, 0.13962693],\n",
       "       [0.18940228, 0.81059772]])"
      ]
     },
     "execution_count": 97,
     "metadata": {},
     "output_type": "execute_result"
    }
   ],
   "source": [
    "# Compute the confusion matrix for the amended probability threshold\n",
    "\n",
    "confusion_matrix(y_train, predictions, normalize='true')"
   ]
  },
  {
   "cell_type": "markdown",
   "id": "552f1ab2",
   "metadata": {},
   "source": [
    "The decreased threshold has decreased the proportion of false negatives from 23%, however this suggests that of those who die we are still mis-classifying around 16% as those who will live, which a large moral implication for the preservation of life (in terms of real numbers this would be around 3500 people). \n",
    "\n",
    "We could continue to decrease the probability threshold and continue to decrease the number of false negatives. However there is a trade off, when we do this the proportion of false positives also increase, that is our predictions say the person will die when actually they will live and this may also have an impact on the preservation of life. Given the scarce resources in the police and medical fields we may end up sending resources to crash sites that are not needed, decreasing the resources available for other emergencies.\n",
    "\n",
    "The optimised F1 score given by the 'Yellow Brick' discrimination threshold plot, which occurs at 39%, gives us the optimum value for finding a middle ground between these concerns. "
   ]
  },
  {
   "cell_type": "markdown",
   "id": "f7aa4a74",
   "metadata": {},
   "source": [
    "## Further investigation\n",
    "\n",
    "1. Blood alcohol being tested and coming out positive or negative comes up consistently as an indicator for death. Blood alcohol not being tested consistently comes up as an indicator for life. Why might this be? The answer may lie in when officers (or other professionals) decide to do a blood test on those involved in crashes. One might assume that this happens only when the person appears intoxicated or the officer has reason to believe the person may be intoxicated, hence when they get a negative blood alcohol test there is a change they may be impaired in some other way. When I looked at some of these negative tests within other data provided by the FARS database this did seem to be the case (For example one individual who had a negative blood alcohol test did test positive for both amphetamines and methamphetamines, whereas another instance I investigated did not uncover any substances). With more time I would like to remove the blood alcohol test as a predictor and replace it with an intoxication predictor which tells whether the person had any substances in their bloodstream which would impair driving, whether these are illegal or legal. \n",
    "\n",
    "\n",
    "2. When we ran the chi-squared tests for predictor strengths the age variable came 2-3 times larger than any other predictor, suggesting this would be a good indicator for the target. However, when we looked at the top 15 coefficients for the Logistic Regression Model ‘age’ did not appear at all. It is possible that the signal for age is being coded within other predictors (for example riding a motorcycle, which may be more associated with young people), but further investigation is required to discern whether this is the case and why there is a discrepancy between the predictors identities by the chi-squared test and those identified by the Logistic Regression Model. "
   ]
  }
 ],
 "metadata": {
  "kernelspec": {
   "display_name": "Python 3",
   "language": "python",
   "name": "python3"
  },
  "language_info": {
   "codemirror_mode": {
    "name": "ipython",
    "version": 3
   },
   "file_extension": ".py",
   "mimetype": "text/x-python",
   "name": "python",
   "nbconvert_exporter": "python",
   "pygments_lexer": "ipython3",
   "version": "3.8.8"
  }
 },
 "nbformat": 4,
 "nbformat_minor": 5
}
